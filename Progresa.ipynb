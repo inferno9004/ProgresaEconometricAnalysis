{
 "cells": [
  {
   "cell_type": "markdown",
   "metadata": {},
   "source": [
    "## Introduction\n",
    "\n",
    "\n",
    "You will be using data from the [Progresa program](http://en.wikipedia.org/wiki/Oportunidades), a government social assistance program in Mexico. This program, as well as the details of its impact, are described in the paper \"[School subsidies for the poor: evaluating the Mexican Progresa poverty program](http://www.sciencedirect.com/science/article/pii/S0304387803001858)\", by Paul Shultz (available on Canvas). Please familiarize yourself with the PROGRESA program before beginning this problem set, so you have a rough sense of where the data come from and how they were generated. If you just proceed into the problem set without understanding Progresa or the data, it will be very difficult!\n",
    "\n",
    "The goal of this problem set is to implement some of the basic econometric techniques that you are learning in class to measure the impact of Progresa on secondary school enrollment rates. The timeline of the program was:\n",
    "\n",
    " * Baseline survey conducted in 1997\n",
    " * Intervention begins in 1998, \"Wave 1\" of data collected in 1998\n",
    " * \"Wave 2 of data\" collected in 1999\n",
    " * Evaluation ends in 2000, at which point the control villages were treated. \n",
    " \n",
    "When you are ready, download the progresa_sample.csv data from Canvas. The data are actual data collected to evaluate the impact of the Progresa program.  In this file, each row corresponds to an observation taken for a given child for a given year. There are two years of data (1997 and 1998), and just under 40,000 children who are surveyed in each year. For each child-year observation, the following variables are collected:\n",
    "\n",
    "| Variable name | Description|\n",
    "|------|------|\n",
    "|year\t  |year in which data is collected\n",
    "|sex\t  |male = 1|\n",
    "|indig\t  |indigenous = 1|\n",
    "|dist_sec |nearest distance to a secondary school|\n",
    "|sc\t      |enrolled in school in year of survey|\n",
    "|grc      |grade enrolled|\n",
    "|fam_n    |family size|\n",
    "|min_dist |\tmin distance to an urban center|\n",
    "|dist_cap |\tmin distance to the capital|\n",
    "|poor     |\tpoor = 1|\n",
    "|progresa |treatment =1|\n",
    "|hohedu\t  |years of schooling of head of household|\n",
    "|hohwag\t  |monthly wages of head of household|\n",
    "|welfare_index|\twelfare index used to classify poor|\n",
    "|hohsex\t|gender of head of household (male=1)|\n",
    "|hohage\t|age of head of household|\n",
    "|age\t|years old|\n",
    "|folnum\t|individual id|\n",
    "|village|\tvillage id|\n",
    "|sc97\t|schooling in 1997|"
   ]
  },
  {
   "cell_type": "code",
   "execution_count": 16,
   "metadata": {
    "collapsed": false
   },
   "outputs": [],
   "source": [
    "# importing modules\n",
    "import pandas as pd\n",
    "from pandas import DataFrame,Series\n",
    "import numpy as np\n",
    "import scipy.stats\n",
    "import matplotlib.pyplot as plt\n",
    "import seaborn as sns\n",
    "%matplotlib inline"
   ]
  },
  {
   "cell_type": "code",
   "execution_count": 17,
   "metadata": {
    "collapsed": false
   },
   "outputs": [
    {
     "data": {
      "text/html": [
       "<div>\n",
       "<table border=\"1\" class=\"dataframe\">\n",
       "  <thead>\n",
       "    <tr style=\"text-align: right;\">\n",
       "      <th></th>\n",
       "      <th>year</th>\n",
       "      <th>sex</th>\n",
       "      <th>indig</th>\n",
       "      <th>dist_sec</th>\n",
       "      <th>sc</th>\n",
       "      <th>grc</th>\n",
       "      <th>fam_n</th>\n",
       "      <th>min_dist</th>\n",
       "      <th>dist_cap</th>\n",
       "      <th>poor</th>\n",
       "      <th>...</th>\n",
       "      <th>hohedu</th>\n",
       "      <th>hohwag</th>\n",
       "      <th>welfare_index</th>\n",
       "      <th>hohsex</th>\n",
       "      <th>hohage</th>\n",
       "      <th>age</th>\n",
       "      <th>village</th>\n",
       "      <th>folnum</th>\n",
       "      <th>grc97</th>\n",
       "      <th>sc97</th>\n",
       "    </tr>\n",
       "  </thead>\n",
       "  <tbody>\n",
       "    <tr>\n",
       "      <th>0</th>\n",
       "      <td>97</td>\n",
       "      <td>0.0</td>\n",
       "      <td>0.0</td>\n",
       "      <td>4.473</td>\n",
       "      <td>1.0</td>\n",
       "      <td>7.0</td>\n",
       "      <td>7</td>\n",
       "      <td>21.168384</td>\n",
       "      <td>21.168384</td>\n",
       "      <td>pobre</td>\n",
       "      <td>...</td>\n",
       "      <td>6</td>\n",
       "      <td>0.0</td>\n",
       "      <td>583.0</td>\n",
       "      <td>1.0</td>\n",
       "      <td>35.0</td>\n",
       "      <td>13</td>\n",
       "      <td>163</td>\n",
       "      <td>1</td>\n",
       "      <td>7</td>\n",
       "      <td>1.0</td>\n",
       "    </tr>\n",
       "    <tr>\n",
       "      <th>1</th>\n",
       "      <td>98</td>\n",
       "      <td>0.0</td>\n",
       "      <td>0.0</td>\n",
       "      <td>4.473</td>\n",
       "      <td>1.0</td>\n",
       "      <td>8.0</td>\n",
       "      <td>7</td>\n",
       "      <td>21.168384</td>\n",
       "      <td>21.168384</td>\n",
       "      <td>pobre</td>\n",
       "      <td>...</td>\n",
       "      <td>6</td>\n",
       "      <td>0.0</td>\n",
       "      <td>583.0</td>\n",
       "      <td>1.0</td>\n",
       "      <td>35.0</td>\n",
       "      <td>14</td>\n",
       "      <td>163</td>\n",
       "      <td>1</td>\n",
       "      <td>7</td>\n",
       "      <td>1.0</td>\n",
       "    </tr>\n",
       "    <tr>\n",
       "      <th>2</th>\n",
       "      <td>97</td>\n",
       "      <td>1.0</td>\n",
       "      <td>0.0</td>\n",
       "      <td>4.473</td>\n",
       "      <td>1.0</td>\n",
       "      <td>6.0</td>\n",
       "      <td>7</td>\n",
       "      <td>21.168384</td>\n",
       "      <td>21.168384</td>\n",
       "      <td>pobre</td>\n",
       "      <td>...</td>\n",
       "      <td>6</td>\n",
       "      <td>0.0</td>\n",
       "      <td>583.0</td>\n",
       "      <td>1.0</td>\n",
       "      <td>35.0</td>\n",
       "      <td>12</td>\n",
       "      <td>163</td>\n",
       "      <td>2</td>\n",
       "      <td>6</td>\n",
       "      <td>1.0</td>\n",
       "    </tr>\n",
       "    <tr>\n",
       "      <th>3</th>\n",
       "      <td>98</td>\n",
       "      <td>1.0</td>\n",
       "      <td>0.0</td>\n",
       "      <td>4.473</td>\n",
       "      <td>1.0</td>\n",
       "      <td>7.0</td>\n",
       "      <td>7</td>\n",
       "      <td>21.168384</td>\n",
       "      <td>21.168384</td>\n",
       "      <td>pobre</td>\n",
       "      <td>...</td>\n",
       "      <td>6</td>\n",
       "      <td>0.0</td>\n",
       "      <td>583.0</td>\n",
       "      <td>1.0</td>\n",
       "      <td>35.0</td>\n",
       "      <td>13</td>\n",
       "      <td>163</td>\n",
       "      <td>2</td>\n",
       "      <td>6</td>\n",
       "      <td>1.0</td>\n",
       "    </tr>\n",
       "    <tr>\n",
       "      <th>4</th>\n",
       "      <td>97</td>\n",
       "      <td>0.0</td>\n",
       "      <td>0.0</td>\n",
       "      <td>4.473</td>\n",
       "      <td>1.0</td>\n",
       "      <td>2.0</td>\n",
       "      <td>7</td>\n",
       "      <td>21.168384</td>\n",
       "      <td>21.168384</td>\n",
       "      <td>pobre</td>\n",
       "      <td>...</td>\n",
       "      <td>6</td>\n",
       "      <td>0.0</td>\n",
       "      <td>583.0</td>\n",
       "      <td>1.0</td>\n",
       "      <td>35.0</td>\n",
       "      <td>8</td>\n",
       "      <td>163</td>\n",
       "      <td>3</td>\n",
       "      <td>2</td>\n",
       "      <td>1.0</td>\n",
       "    </tr>\n",
       "  </tbody>\n",
       "</table>\n",
       "<p>5 rows × 21 columns</p>\n",
       "</div>"
      ],
      "text/plain": [
       "   year  sex  indig  dist_sec   sc  grc  fam_n   min_dist   dist_cap   poor  \\\n",
       "0    97  0.0    0.0     4.473  1.0  7.0      7  21.168384  21.168384  pobre   \n",
       "1    98  0.0    0.0     4.473  1.0  8.0      7  21.168384  21.168384  pobre   \n",
       "2    97  1.0    0.0     4.473  1.0  6.0      7  21.168384  21.168384  pobre   \n",
       "3    98  1.0    0.0     4.473  1.0  7.0      7  21.168384  21.168384  pobre   \n",
       "4    97  0.0    0.0     4.473  1.0  2.0      7  21.168384  21.168384  pobre   \n",
       "\n",
       "   ...  hohedu  hohwag  welfare_index  hohsex  hohage  age  village  folnum  \\\n",
       "0  ...       6     0.0          583.0     1.0    35.0   13      163       1   \n",
       "1  ...       6     0.0          583.0     1.0    35.0   14      163       1   \n",
       "2  ...       6     0.0          583.0     1.0    35.0   12      163       2   \n",
       "3  ...       6     0.0          583.0     1.0    35.0   13      163       2   \n",
       "4  ...       6     0.0          583.0     1.0    35.0    8      163       3   \n",
       "\n",
       "   grc97  sc97  \n",
       "0      7   1.0  \n",
       "1      7   1.0  \n",
       "2      6   1.0  \n",
       "3      6   1.0  \n",
       "4      2   1.0  \n",
       "\n",
       "[5 rows x 21 columns]"
      ]
     },
     "execution_count": 17,
     "metadata": {},
     "output_type": "execute_result"
    }
   ],
   "source": [
    "# importing the data\n",
    "progresa_df = pd.read_csv(\"progresa_sample.csv\")\n",
    "progresa_df.head()"
   ]
  },
  {
   "cell_type": "markdown",
   "metadata": {},
   "source": [
    "---\n",
    "\n",
    "## Part 1: Descriptive analysis\n",
    "\n",
    "### 1.1\tSummary Statistics\n",
    "\n",
    "Present summary statistics (mean and standard deviation) for all of the demographic variables in the dataset (i.e., everything except year, folnum, village). Present these in a single table alphabetized by variable name. Do NOT simply expect the grader to scroll through your output!"
   ]
  },
  {
   "cell_type": "code",
   "execution_count": 18,
   "metadata": {
    "collapsed": false
   },
   "outputs": [
    {
     "name": "stderr",
     "output_type": "stream",
     "text": [
      "/home/aamir/anaconda2/lib/python2.7/site-packages/ipykernel/__main__.py:2: FutureWarning: using '-' to provide set differences with Indexes is deprecated, use .difference()\n",
      "  from ipykernel import kernelapp as app\n"
     ]
    },
    {
     "data": {
      "text/html": [
       "<div>\n",
       "<table border=\"1\" class=\"dataframe\">\n",
       "  <thead>\n",
       "    <tr style=\"text-align: right;\">\n",
       "      <th></th>\n",
       "      <th>mean</th>\n",
       "      <th>std</th>\n",
       "    </tr>\n",
       "  </thead>\n",
       "  <tbody>\n",
       "    <tr>\n",
       "      <th>age</th>\n",
       "      <td>11.366460</td>\n",
       "      <td>3.167744</td>\n",
       "    </tr>\n",
       "    <tr>\n",
       "      <th>dist_cap</th>\n",
       "      <td>147.674452</td>\n",
       "      <td>76.063134</td>\n",
       "    </tr>\n",
       "    <tr>\n",
       "      <th>dist_sec</th>\n",
       "      <td>2.418910</td>\n",
       "      <td>2.234109</td>\n",
       "    </tr>\n",
       "    <tr>\n",
       "      <th>fam_n</th>\n",
       "      <td>7.215715</td>\n",
       "      <td>2.352900</td>\n",
       "    </tr>\n",
       "    <tr>\n",
       "      <th>grc</th>\n",
       "      <td>3.963537</td>\n",
       "      <td>2.499063</td>\n",
       "    </tr>\n",
       "    <tr>\n",
       "      <th>grc97</th>\n",
       "      <td>3.705372</td>\n",
       "      <td>2.572387</td>\n",
       "    </tr>\n",
       "    <tr>\n",
       "      <th>hohage</th>\n",
       "      <td>44.436717</td>\n",
       "      <td>11.620372</td>\n",
       "    </tr>\n",
       "    <tr>\n",
       "      <th>hohedu</th>\n",
       "      <td>2.768104</td>\n",
       "      <td>2.656106</td>\n",
       "    </tr>\n",
       "    <tr>\n",
       "      <th>hohsex</th>\n",
       "      <td>0.925185</td>\n",
       "      <td>0.263095</td>\n",
       "    </tr>\n",
       "    <tr>\n",
       "      <th>hohwag</th>\n",
       "      <td>586.985312</td>\n",
       "      <td>788.133664</td>\n",
       "    </tr>\n",
       "    <tr>\n",
       "      <th>indig</th>\n",
       "      <td>0.298324</td>\n",
       "      <td>0.457525</td>\n",
       "    </tr>\n",
       "    <tr>\n",
       "      <th>min_dist</th>\n",
       "      <td>103.447520</td>\n",
       "      <td>42.089441</td>\n",
       "    </tr>\n",
       "    <tr>\n",
       "      <th>sc</th>\n",
       "      <td>0.819818</td>\n",
       "      <td>0.384342</td>\n",
       "    </tr>\n",
       "    <tr>\n",
       "      <th>sc97</th>\n",
       "      <td>0.813922</td>\n",
       "      <td>0.389172</td>\n",
       "    </tr>\n",
       "    <tr>\n",
       "      <th>sex</th>\n",
       "      <td>0.512211</td>\n",
       "      <td>0.499854</td>\n",
       "    </tr>\n",
       "    <tr>\n",
       "      <th>welfare_index</th>\n",
       "      <td>690.346564</td>\n",
       "      <td>139.491130</td>\n",
       "    </tr>\n",
       "  </tbody>\n",
       "</table>\n",
       "</div>"
      ],
      "text/plain": [
       "                     mean         std\n",
       "age             11.366460    3.167744\n",
       "dist_cap       147.674452   76.063134\n",
       "dist_sec         2.418910    2.234109\n",
       "fam_n            7.215715    2.352900\n",
       "grc              3.963537    2.499063\n",
       "grc97            3.705372    2.572387\n",
       "hohage          44.436717   11.620372\n",
       "hohedu           2.768104    2.656106\n",
       "hohsex           0.925185    0.263095\n",
       "hohwag         586.985312  788.133664\n",
       "indig            0.298324    0.457525\n",
       "min_dist       103.447520   42.089441\n",
       "sc               0.819818    0.384342\n",
       "sc97             0.813922    0.389172\n",
       "sex              0.512211    0.499854\n",
       "welfare_index  690.346564  139.491130"
      ]
     },
     "execution_count": 18,
     "metadata": {},
     "output_type": "execute_result"
    }
   ],
   "source": [
    "# selecting required columns\n",
    "summary_df = progresa_df.ix[:,progresa_df.columns-[\"year\", \"folnum\", \"village\"]]\n",
    "\n",
    "#selecting mean & std\n",
    "summary_df = summary_df.describe()[1:3]\n",
    "\n",
    "#transposing to avoid scrolling\n",
    "summary_df.transpose()"
   ]
  },
  {
   "cell_type": "markdown",
   "metadata": {},
   "source": [
    "### 1.2 Differences at baseline?\n",
    "\n",
    "Are the baseline (1997) demographic characteristics **for the poor**  different in treatment and control villages? Hint: Use a T-Test to determine whether there is a statistically significant difference in the average values of each of the variables in the dataset. Focus only on the data from 1997 for individuals who are poor (i.e., poor=='pobre').\n",
    "\n",
    "Present your results in a single table with the following columns and 14 (or so) rows:\n",
    "\n",
    "| Variable name | Average value (Treatment villages) | Average value (Control villages) | Difference (Treat - Control) | p-value |\n",
    "|------|------|------|------|------|\n",
    "|Male|?|?|?|?|\n"
   ]
  },
  {
   "cell_type": "code",
   "execution_count": 19,
   "metadata": {
    "collapsed": false
   },
   "outputs": [
    {
     "name": "stderr",
     "output_type": "stream",
     "text": [
      "/home/aamir/anaconda2/lib/python2.7/site-packages/ipykernel/__main__.py:5: FutureWarning: using '-' to provide set differences with Indexes is deprecated, use .difference()\n"
     ]
    },
    {
     "data": {
      "text/plain": [
       "age               10.726541\n",
       "dist_cap         151.950977\n",
       "dist_sec           2.473930\n",
       "fam_n              7.289393\n",
       "grc                3.535968\n",
       "grc97              3.535968\n",
       "hohage            43.888471\n",
       "hohedu             2.635368\n",
       "hohsex             0.924004\n",
       "hohwag           555.336325\n",
       "indig              0.328360\n",
       "min_dist         105.659262\n",
       "sc                 0.819837\n",
       "sc97               0.819837\n",
       "sex                0.513875\n",
       "welfare_index    657.006708\n",
       "dtype: float64"
      ]
     },
     "execution_count": 19,
     "metadata": {},
     "output_type": "execute_result"
    }
   ],
   "source": [
    "# Selecting base data i.e. 1997 data for poor\n",
    "progresa_base_poor_df = progresa_df[(progresa_df[\"year\"] == 97) & (progresa_df[\"poor\"] == \"pobre\")]\n",
    "\n",
    "#selecting the required columns\n",
    "progresa_base_poor_df = progresa_base_poor_df.ix[:,progresa_base_poor_df.columns-[\"year\", \"folnum\", \"village\"]]\n",
    "\n",
    "#calculating the mean of the factors\n",
    "progresa_base_poor_df.mean()"
   ]
  },
  {
   "cell_type": "code",
   "execution_count": 20,
   "metadata": {
    "collapsed": false
   },
   "outputs": [],
   "source": [
    "#defining control and treatment groups\n",
    "control_df = progresa_base_poor_df[progresa_base_poor_df[\"progresa\"] == \"0\"]\n",
    "treatment_df = progresa_base_poor_df[progresa_base_poor_df[\"progresa\"] == \"basal\"]\n",
    "\n",
    "#deleting columns for poor and progresa as they wont be required in the table of averages\n",
    "del control_df[\"poor\"]\n",
    "del control_df[\"progresa\"]\n",
    "del treatment_df[\"poor\"]\n",
    "del treatment_df[\"progresa\"]"
   ]
  },
  {
   "cell_type": "code",
   "execution_count": 21,
   "metadata": {
    "collapsed": false
   },
   "outputs": [
    {
     "data": {
      "text/plain": [
       "Index([u'age', u'dist_cap', u'dist_sec', u'fam_n', u'grc', u'grc97', u'hohage',\n",
       "       u'hohedu', u'hohsex', u'hohwag', u'indig', u'min_dist', u'sc', u'sc97',\n",
       "       u'sex', u'welfare_index'],\n",
       "      dtype='object')"
      ]
     },
     "execution_count": 21,
     "metadata": {},
     "output_type": "execute_result"
    }
   ],
   "source": [
    "treatment_df.columns"
   ]
  },
  {
   "cell_type": "code",
   "execution_count": 22,
   "metadata": {
    "collapsed": false
   },
   "outputs": [],
   "source": [
    "# creating the index and columns for the table of averages\n",
    "index = ['age','dist_cap','dist_sec','fam_n','grc','grc97','hohage','hohedu','hohsex',\n",
    "         'hohwag','indig','min_dist', 'sc','sc97','sex','welfare_index']\n",
    "cols = [\"Avg Values(Treatment Villages)\",\"Avg Values(Control Villages)\"]"
   ]
  },
  {
   "cell_type": "code",
   "execution_count": 23,
   "metadata": {
    "collapsed": false
   },
   "outputs": [],
   "source": [
    "#creating the dataframe for the table of averages\n",
    "mean_table = pd.DataFrame(index = index, columns = cols)"
   ]
  },
  {
   "cell_type": "code",
   "execution_count": 24,
   "metadata": {
    "collapsed": false
   },
   "outputs": [],
   "source": [
    "#calculating the mean of each variable (15 variables chosen)\n",
    "for i in range(16):\n",
    "    mean_table[\"Avg Values(Treatment Villages)\"][i] = treatment_df.mean()[i]\n",
    "    mean_table[\"Avg Values(Control Villages)\"][i] = control_df.mean()[i]"
   ]
  },
  {
   "cell_type": "code",
   "execution_count": 25,
   "metadata": {
    "collapsed": false
   },
   "outputs": [],
   "source": [
    "#inserting the differences for treatment and control\n",
    "mean_table[\"Difference (Treat - Control)\"] = mean_table[\"Avg Values(Treatment Villages)\"] - mean_table[\"Avg Values(Control Villages)\"]"
   ]
  },
  {
   "cell_type": "code",
   "execution_count": 26,
   "metadata": {
    "collapsed": false
   },
   "outputs": [
    {
     "data": {
      "text/html": [
       "<div>\n",
       "<table border=\"1\" class=\"dataframe\">\n",
       "  <thead>\n",
       "    <tr style=\"text-align: right;\">\n",
       "      <th></th>\n",
       "      <th>Avg Values(Treatment Villages)</th>\n",
       "      <th>Avg Values(Control Villages)</th>\n",
       "      <th>Difference (Treat - Control)</th>\n",
       "    </tr>\n",
       "  </thead>\n",
       "  <tbody>\n",
       "    <tr>\n",
       "      <th>age</th>\n",
       "      <td>10.717</td>\n",
       "      <td>10.742</td>\n",
       "      <td>-0.025032</td>\n",
       "    </tr>\n",
       "    <tr>\n",
       "      <th>dist_cap</th>\n",
       "      <td>150.829</td>\n",
       "      <td>153.77</td>\n",
       "      <td>-2.94066</td>\n",
       "    </tr>\n",
       "    <tr>\n",
       "      <th>dist_sec</th>\n",
       "      <td>2.45312</td>\n",
       "      <td>2.50766</td>\n",
       "      <td>-0.0545398</td>\n",
       "    </tr>\n",
       "    <tr>\n",
       "      <th>fam_n</th>\n",
       "      <td>7.28133</td>\n",
       "      <td>7.30247</td>\n",
       "      <td>-0.0211419</td>\n",
       "    </tr>\n",
       "    <tr>\n",
       "      <th>grc</th>\n",
       "      <td>3.5316</td>\n",
       "      <td>3.54305</td>\n",
       "      <td>-0.0114503</td>\n",
       "    </tr>\n",
       "    <tr>\n",
       "      <th>grc97</th>\n",
       "      <td>3.5316</td>\n",
       "      <td>3.54305</td>\n",
       "      <td>-0.0114503</td>\n",
       "    </tr>\n",
       "    <tr>\n",
       "      <th>hohage</th>\n",
       "      <td>43.6488</td>\n",
       "      <td>44.2769</td>\n",
       "      <td>-0.62809</td>\n",
       "    </tr>\n",
       "    <tr>\n",
       "      <th>hohedu</th>\n",
       "      <td>2.66314</td>\n",
       "      <td>2.59035</td>\n",
       "      <td>0.0727912</td>\n",
       "    </tr>\n",
       "    <tr>\n",
       "      <th>hohsex</th>\n",
       "      <td>0.924656</td>\n",
       "      <td>0.922947</td>\n",
       "      <td>0.00170878</td>\n",
       "    </tr>\n",
       "    <tr>\n",
       "      <th>hohwag</th>\n",
       "      <td>544.34</td>\n",
       "      <td>573.164</td>\n",
       "      <td>-28.824</td>\n",
       "    </tr>\n",
       "    <tr>\n",
       "      <th>indig</th>\n",
       "      <td>0.325986</td>\n",
       "      <td>0.332207</td>\n",
       "      <td>-0.00622198</td>\n",
       "    </tr>\n",
       "    <tr>\n",
       "      <th>min_dist</th>\n",
       "      <td>107.153</td>\n",
       "      <td>103.238</td>\n",
       "      <td>3.91506</td>\n",
       "    </tr>\n",
       "    <tr>\n",
       "      <th>sc</th>\n",
       "      <td>0.822697</td>\n",
       "      <td>0.815186</td>\n",
       "      <td>0.00751088</td>\n",
       "    </tr>\n",
       "    <tr>\n",
       "      <th>sc97</th>\n",
       "      <td>0.822697</td>\n",
       "      <td>0.815186</td>\n",
       "      <td>0.00751088</td>\n",
       "    </tr>\n",
       "    <tr>\n",
       "      <th>sex</th>\n",
       "      <td>0.519317</td>\n",
       "      <td>0.505052</td>\n",
       "      <td>0.0142652</td>\n",
       "    </tr>\n",
       "    <tr>\n",
       "      <th>welfare_index</th>\n",
       "      <td>655.428</td>\n",
       "      <td>659.579</td>\n",
       "      <td>-4.15072</td>\n",
       "    </tr>\n",
       "  </tbody>\n",
       "</table>\n",
       "</div>"
      ],
      "text/plain": [
       "              Avg Values(Treatment Villages) Avg Values(Control Villages)  \\\n",
       "age                                   10.717                       10.742   \n",
       "dist_cap                             150.829                       153.77   \n",
       "dist_sec                             2.45312                      2.50766   \n",
       "fam_n                                7.28133                      7.30247   \n",
       "grc                                   3.5316                      3.54305   \n",
       "grc97                                 3.5316                      3.54305   \n",
       "hohage                               43.6488                      44.2769   \n",
       "hohedu                               2.66314                      2.59035   \n",
       "hohsex                              0.924656                     0.922947   \n",
       "hohwag                                544.34                      573.164   \n",
       "indig                               0.325986                     0.332207   \n",
       "min_dist                             107.153                      103.238   \n",
       "sc                                  0.822697                     0.815186   \n",
       "sc97                                0.822697                     0.815186   \n",
       "sex                                 0.519317                     0.505052   \n",
       "welfare_index                        655.428                      659.579   \n",
       "\n",
       "              Difference (Treat - Control)  \n",
       "age                              -0.025032  \n",
       "dist_cap                          -2.94066  \n",
       "dist_sec                        -0.0545398  \n",
       "fam_n                           -0.0211419  \n",
       "grc                             -0.0114503  \n",
       "grc97                           -0.0114503  \n",
       "hohage                            -0.62809  \n",
       "hohedu                           0.0727912  \n",
       "hohsex                          0.00170878  \n",
       "hohwag                             -28.824  \n",
       "indig                          -0.00622198  \n",
       "min_dist                           3.91506  \n",
       "sc                              0.00751088  \n",
       "sc97                            0.00751088  \n",
       "sex                              0.0142652  \n",
       "welfare_index                     -4.15072  "
      ]
     },
     "execution_count": 26,
     "metadata": {},
     "output_type": "execute_result"
    }
   ],
   "source": [
    "mean_table"
   ]
  },
  {
   "cell_type": "code",
   "execution_count": 27,
   "metadata": {
    "collapsed": false
   },
   "outputs": [],
   "source": [
    "#creating a column for p-value\n",
    "mean_table[\"p-value\"]=\"\"\n",
    "for i in index:\n",
    "    #carrying out the ttest and then inserting the pvalues in the table of averages\n",
    "    mean_table[\"p-value\"][i] = scipy.stats.ttest_ind(control_df[i].dropna(),treatment_df[i].dropna())[1]"
   ]
  },
  {
   "cell_type": "code",
   "execution_count": 28,
   "metadata": {
    "collapsed": false
   },
   "outputs": [
    {
     "data": {
      "text/html": [
       "<div>\n",
       "<table border=\"1\" class=\"dataframe\">\n",
       "  <thead>\n",
       "    <tr style=\"text-align: right;\">\n",
       "      <th></th>\n",
       "      <th>Avg Values(Treatment Villages)</th>\n",
       "      <th>Avg Values(Control Villages)</th>\n",
       "      <th>Difference (Treat - Control)</th>\n",
       "      <th>p-value</th>\n",
       "    </tr>\n",
       "  </thead>\n",
       "  <tbody>\n",
       "    <tr>\n",
       "      <th>age</th>\n",
       "      <td>10.717</td>\n",
       "      <td>10.742</td>\n",
       "      <td>-0.025032</td>\n",
       "      <td>0.478559</td>\n",
       "    </tr>\n",
       "    <tr>\n",
       "      <th>dist_cap</th>\n",
       "      <td>150.829</td>\n",
       "      <td>153.77</td>\n",
       "      <td>-2.94066</td>\n",
       "      <td>0.000841501</td>\n",
       "    </tr>\n",
       "    <tr>\n",
       "      <th>dist_sec</th>\n",
       "      <td>2.45312</td>\n",
       "      <td>2.50766</td>\n",
       "      <td>-0.0545398</td>\n",
       "      <td>0.0356984</td>\n",
       "    </tr>\n",
       "    <tr>\n",
       "      <th>fam_n</th>\n",
       "      <td>7.28133</td>\n",
       "      <td>7.30247</td>\n",
       "      <td>-0.0211419</td>\n",
       "      <td>0.427104</td>\n",
       "    </tr>\n",
       "    <tr>\n",
       "      <th>grc</th>\n",
       "      <td>3.5316</td>\n",
       "      <td>3.54305</td>\n",
       "      <td>-0.0114503</td>\n",
       "      <td>0.689015</td>\n",
       "    </tr>\n",
       "    <tr>\n",
       "      <th>grc97</th>\n",
       "      <td>3.5316</td>\n",
       "      <td>3.54305</td>\n",
       "      <td>-0.0114503</td>\n",
       "      <td>0.689015</td>\n",
       "    </tr>\n",
       "    <tr>\n",
       "      <th>hohage</th>\n",
       "      <td>43.6488</td>\n",
       "      <td>44.2769</td>\n",
       "      <td>-0.62809</td>\n",
       "      <td>1.79624e-06</td>\n",
       "    </tr>\n",
       "    <tr>\n",
       "      <th>hohedu</th>\n",
       "      <td>2.66314</td>\n",
       "      <td>2.59035</td>\n",
       "      <td>0.0727912</td>\n",
       "      <td>0.0110509</td>\n",
       "    </tr>\n",
       "    <tr>\n",
       "      <th>hohsex</th>\n",
       "      <td>0.924656</td>\n",
       "      <td>0.922947</td>\n",
       "      <td>0.00170878</td>\n",
       "      <td>0.571186</td>\n",
       "    </tr>\n",
       "    <tr>\n",
       "      <th>hohwag</th>\n",
       "      <td>544.34</td>\n",
       "      <td>573.164</td>\n",
       "      <td>-28.824</td>\n",
       "      <td>0.000325384</td>\n",
       "    </tr>\n",
       "    <tr>\n",
       "      <th>indig</th>\n",
       "      <td>0.325986</td>\n",
       "      <td>0.332207</td>\n",
       "      <td>-0.00622198</td>\n",
       "      <td>0.24536</td>\n",
       "    </tr>\n",
       "    <tr>\n",
       "      <th>min_dist</th>\n",
       "      <td>107.153</td>\n",
       "      <td>103.238</td>\n",
       "      <td>3.91506</td>\n",
       "      <td>2.35831e-16</td>\n",
       "    </tr>\n",
       "    <tr>\n",
       "      <th>sc</th>\n",
       "      <td>0.822697</td>\n",
       "      <td>0.815186</td>\n",
       "      <td>0.00751088</td>\n",
       "      <td>0.0951781</td>\n",
       "    </tr>\n",
       "    <tr>\n",
       "      <th>sc97</th>\n",
       "      <td>0.822697</td>\n",
       "      <td>0.815186</td>\n",
       "      <td>0.00751088</td>\n",
       "      <td>0.0951781</td>\n",
       "    </tr>\n",
       "    <tr>\n",
       "      <th>sex</th>\n",
       "      <td>0.519317</td>\n",
       "      <td>0.505052</td>\n",
       "      <td>0.0142652</td>\n",
       "      <td>0.0121917</td>\n",
       "    </tr>\n",
       "    <tr>\n",
       "      <th>welfare_index</th>\n",
       "      <td>655.428</td>\n",
       "      <td>659.579</td>\n",
       "      <td>-4.15072</td>\n",
       "      <td>0.00143102</td>\n",
       "    </tr>\n",
       "  </tbody>\n",
       "</table>\n",
       "</div>"
      ],
      "text/plain": [
       "              Avg Values(Treatment Villages) Avg Values(Control Villages)  \\\n",
       "age                                   10.717                       10.742   \n",
       "dist_cap                             150.829                       153.77   \n",
       "dist_sec                             2.45312                      2.50766   \n",
       "fam_n                                7.28133                      7.30247   \n",
       "grc                                   3.5316                      3.54305   \n",
       "grc97                                 3.5316                      3.54305   \n",
       "hohage                               43.6488                      44.2769   \n",
       "hohedu                               2.66314                      2.59035   \n",
       "hohsex                              0.924656                     0.922947   \n",
       "hohwag                                544.34                      573.164   \n",
       "indig                               0.325986                     0.332207   \n",
       "min_dist                             107.153                      103.238   \n",
       "sc                                  0.822697                     0.815186   \n",
       "sc97                                0.822697                     0.815186   \n",
       "sex                                 0.519317                     0.505052   \n",
       "welfare_index                        655.428                      659.579   \n",
       "\n",
       "              Difference (Treat - Control)      p-value  \n",
       "age                              -0.025032     0.478559  \n",
       "dist_cap                          -2.94066  0.000841501  \n",
       "dist_sec                        -0.0545398    0.0356984  \n",
       "fam_n                           -0.0211419     0.427104  \n",
       "grc                             -0.0114503     0.689015  \n",
       "grc97                           -0.0114503     0.689015  \n",
       "hohage                            -0.62809  1.79624e-06  \n",
       "hohedu                           0.0727912    0.0110509  \n",
       "hohsex                          0.00170878     0.571186  \n",
       "hohwag                             -28.824  0.000325384  \n",
       "indig                          -0.00622198      0.24536  \n",
       "min_dist                           3.91506  2.35831e-16  \n",
       "sc                              0.00751088    0.0951781  \n",
       "sc97                            0.00751088    0.0951781  \n",
       "sex                              0.0142652    0.0121917  \n",
       "welfare_index                     -4.15072   0.00143102  "
      ]
     },
     "execution_count": 28,
     "metadata": {},
     "output_type": "execute_result"
    }
   ],
   "source": [
    "#displaying the table of averages\n",
    "mean_table"
   ]
  },
  {
   "cell_type": "markdown",
   "metadata": {},
   "source": [
    "### 1.3 Interpretation\n",
    "\n",
    "* A: Are there statistically significant differences between treatment and control villages as baseline? \n",
    "* B: Why does it matter if there are differences at baseline?\n",
    "* C: What does this imply about how to measure the impact of the treatment?"
   ]
  },
  {
   "cell_type": "markdown",
   "metadata": {},
   "source": [
    "\n",
    "\n",
    "* Part A --\n",
    "Yes, there are statistically significant values between treatment and control villages as baseline. This is evident from the fact that there are certain p-values in the mean table which are below 0.05.\n",
    "\n",
    "* Part B --\n",
    "If there are statistically significant differences at the baseline, then it will imply that there is imbalance. The treatment and control group were not equal in all repsects and characteristics. It will imply that there exists a bias between the 2 groups and this will mean that differences in 2 groups post intervention cannot be fully attributed to the intervention. The differences can also arise because of statistically significant differences in characteristics that existed before the intervention.\n",
    "\n",
    "* Part C --\n",
    "This implies that the impact of the treatment should be measured in such a way that effect of the statistically significant characteristics should not be taken into account on the outcome change. The analysis should be adjusted appropriately to accomodate these baseline differences."
   ]
  },
  {
   "cell_type": "markdown",
   "metadata": {},
   "source": [
    "### 1.4 Graphical exploration, part 1\n",
    "\n",
    "For each level of household head education, compute the average enrollment rate in 1997. Create a scatterplot that shows this relationship. What do you notice?"
   ]
  },
  {
   "cell_type": "code",
   "execution_count": 29,
   "metadata": {
    "collapsed": false
   },
   "outputs": [
    {
     "data": {
      "image/png": "[encoded data removed]",
      "text/plain": [
       "<matplotlib.figure.Figure at 0x7feb35e64e90>"
      ]
     },
     "metadata": {},
     "output_type": "display_data"
    }
   ],
   "source": [
    "#grouping by househoild head education level and creating a mean\n",
    "Education_Level_df = progresa_base_poor_df.groupby(\"hohedu\", as_index=False).mean()\n",
    "\n",
    "#plotting average enrollment for each household level\n",
    "plt.scatter(Education_Level_df[\"hohedu\"],Education_Level_df[\"sc97\"])\n",
    "plt.xlabel(\"Household Head Education Level\")\n",
    "plt.ylabel(\"Average Enrollment Rate in 1997\")\n",
    "plt.title(\"Average Enrollment \\nVs \\nHousehold head Education Level\")\n",
    "plt.show()"
   ]
  },
  {
   "cell_type": "markdown",
   "metadata": {},
   "source": [
    "*Discuss your results here*\n",
    "\n",
    "* We can see that the Average enrollment in schools starts at around 0.7 for the 0 level of household head education. \n",
    "\n",
    "* The enrollment gradually rises uptill the education level 12, except an ubrupt drop at level 10.\n",
    "\n",
    "* After 12, the enrollment level shows a fluctuating behavior.\n",
    "\n",
    "* At the education level 20, the mean enrollment is 0.5, which happens to be very low than the usual."
   ]
  },
  {
   "cell_type": "markdown",
   "metadata": {},
   "source": [
    "### 1.5 Graphical exploration, part 2\n",
    "\n",
    "Create a histogram of village enrollment rates **among poor households in treated villages**, before and after treatment. Specifically, for each village, calculate the average rate of enrollment of poor households in treated villages in 1997, then compute the average rate of enrollment of poor households in treated villages in 1998. Create two separate histograms showing the distribution of these average enrollments rates, one histogram for 1997 and one histogram for 1998. On each histogram, draw a vertical line that intersects the x-axis at the average value (across all households). Does there appear to be a difference? Is this difference statistically significant?"
   ]
  },
  {
   "cell_type": "code",
   "execution_count": 30,
   "metadata": {
    "collapsed": false
   },
   "outputs": [],
   "source": [
    "#selecting poor households in treatment group\n",
    "progresa_poor_treated_df = progresa_df[(progresa_df[\"poor\"]==\"pobre\") & (progresa_df[\"progresa\"]== \"basal\")]\n",
    "\n",
    "#selecting pre data\n",
    "before_treatment_df = progresa_poor_treated_df[progresa_poor_treated_df[\"year\"] == 97]\n",
    "\n",
    "#selecting post data\n",
    "after_treatment_df = progresa_poor_treated_df[progresa_poor_treated_df[\"year\"] == 98]"
   ]
  },
  {
   "cell_type": "code",
   "execution_count": 31,
   "metadata": {
    "collapsed": false
   },
   "outputs": [],
   "source": [
    "#grouping data by villages for pre and post\n",
    "village_before_treatment_df=before_treatment_df.groupby(\"village\", as_index=False).mean()\n",
    "village_after_treatment_df=after_treatment_df.groupby(\"village\",as_index=False).mean()"
   ]
  },
  {
   "cell_type": "code",
   "execution_count": 32,
   "metadata": {
    "collapsed": false
   },
   "outputs": [
    {
     "data": {
      "text/plain": [
       "<matplotlib.lines.Line2D at 0x7feb35aa0e50>"
      ]
     },
     "execution_count": 32,
     "metadata": {},
     "output_type": "execute_result"
    },
    {
     "data": {
      "image/png": "[encoded data removed]",
      "text/plain": [
       "<matplotlib.figure.Figure at 0x7feb35aa0b50>"
      ]
     },
     "metadata": {},
     "output_type": "display_data"
    }
   ],
   "source": [
    "#plotting data for pre\n",
    "plt.hist(village_before_treatment_df[\"sc\"], normed = True, alpha = 0.3, bins = 25, color = \"red\")\n",
    "plt.axvline(village_before_treatment_df[\"sc\"].mean())"
   ]
  },
  {
   "cell_type": "code",
   "execution_count": 33,
   "metadata": {
    "collapsed": false
   },
   "outputs": [
    {
     "data": {
      "text/plain": [
       "<matplotlib.lines.Line2D at 0x7feb3593b790>"
      ]
     },
     "execution_count": 33,
     "metadata": {},
     "output_type": "execute_result"
    },
    {
     "data": {
      "image/png": "[encoded data removed]",
      "text/plain": [
       "<matplotlib.figure.Figure at 0x7feb3593b850>"
      ]
     },
     "metadata": {},
     "output_type": "display_data"
    }
   ],
   "source": [
    "#plotting data for post\n",
    "plt.hist(village_after_treatment_df[\"sc\"], alpha = 0.3, normed = True, bins = 25)\n",
    "plt.axvline(village_after_treatment_df[\"sc\"].mean())"
   ]
  },
  {
   "cell_type": "code",
   "execution_count": 34,
   "metadata": {
    "collapsed": false
   },
   "outputs": [
    {
     "name": "stdout",
     "output_type": "stream",
     "text": [
      "The difference in enrollments for pre and post data : \n"
     ]
    },
    {
     "data": {
      "text/plain": [
       "0.0156967932034231"
      ]
     },
     "execution_count": 34,
     "metadata": {},
     "output_type": "execute_result"
    }
   ],
   "source": [
    "print (\"The difference in enrollments for pre and post data : \")\n",
    "village_after_treatment_df[\"sc\"].mean() - village_before_treatment_df[\"sc\"].mean()"
   ]
  },
  {
   "cell_type": "code",
   "execution_count": 35,
   "metadata": {
    "collapsed": false
   },
   "outputs": [
    {
     "data": {
      "text/plain": [
       "Ttest_indResult(statistic=2.0157134865156379, pvalue=0.04424870036572115)"
      ]
     },
     "execution_count": 35,
     "metadata": {},
     "output_type": "execute_result"
    }
   ],
   "source": [
    "scipy.stats.ttest_ind(village_after_treatment_df[\"sc\"], village_before_treatment_df[\"sc\"])"
   ]
  },
  {
   "cell_type": "markdown",
   "metadata": {},
   "source": [
    "* There is a very small positive effect in the average enrollment in schools before and after treatment. \n",
    "* The difference is statistically significant"
   ]
  },
  {
   "cell_type": "markdown",
   "metadata": {},
   "source": [
    "## Part 2: Measuring Impact\n",
    "\n",
    "Our goal is to estimate the causal impact of the PROGRESA program on the social and economic outcomes of individuals in Mexico. We will focus on the impact of the program on the poor (those with poor=='pobre'), since only the poor were eligible to receive the PROGRESA assistance.\n",
    "\n",
    "### 2.1 Simple differences: T-test\n",
    "\n",
    "Begin by estimating the impact of Progresa using \"simple differences.\" Restricting yourself to data from 1998 (after treatment), calculate the average enrollment rate among **poor** households in the Treatment villages and the average enrollment rate among **poor** households in the control villages. Use a t-test to determine if this difference is statistically significant. What do you conclude?"
   ]
  },
  {
   "cell_type": "code",
   "execution_count": 36,
   "metadata": {
    "collapsed": false
   },
   "outputs": [],
   "source": [
    "# Your code here\n",
    "progresa_98_df = progresa_df[progresa_df[\"year\"] == 98]\n",
    "progresa_98_control_df = progresa_98_df[progresa_98_df[\"progresa\"] == \"0\"]\n",
    "progresa_98_treatment_df = progresa_98_df[progresa_98_df[\"progresa\"] == \"basal\"]\n",
    "progresa_98_poor_control_df = progresa_98_control_df[progresa_98_control_df[\"poor\"] == \"pobre\"]\n",
    "progresa_98_poor_treatment_df = progresa_98_treatment_df[progresa_98_treatment_df[\"poor\"] == \"pobre\"]"
   ]
  },
  {
   "cell_type": "code",
   "execution_count": 37,
   "metadata": {
    "collapsed": false
   },
   "outputs": [],
   "source": [
    "progresa_98_poor_df = progresa_98_df[progresa_98_df[\"poor\"] == \"pobre\"]"
   ]
  },
  {
   "cell_type": "code",
   "execution_count": 38,
   "metadata": {
    "collapsed": false
   },
   "outputs": [
    {
     "data": {
      "text/plain": [
       "0.0388421646651228"
      ]
     },
     "execution_count": 38,
     "metadata": {},
     "output_type": "execute_result"
    }
   ],
   "source": [
    "progresa_98_poor_treatment_df[\"sc\"].mean()-progresa_98_poor_control_df[\"sc\"].mean()"
   ]
  },
  {
   "cell_type": "code",
   "execution_count": 39,
   "metadata": {
    "collapsed": false
   },
   "outputs": [
    {
     "data": {
      "text/plain": [
       "(10423,)"
      ]
     },
     "execution_count": 39,
     "metadata": {},
     "output_type": "execute_result"
    }
   ],
   "source": [
    "progresa_98_poor_control_df[\"sc\"].dropna().shape"
   ]
  },
  {
   "cell_type": "code",
   "execution_count": 40,
   "metadata": {
    "collapsed": false
   },
   "outputs": [
    {
     "data": {
      "text/plain": [
       "Ttest_indResult(statistic=8.3587205674183735, pvalue=6.636344447523235e-17)"
      ]
     },
     "execution_count": 40,
     "metadata": {},
     "output_type": "execute_result"
    }
   ],
   "source": [
    "scipy.stats.ttest_ind(progresa_98_poor_treatment_df[\"sc\"].dropna(), progresa_98_poor_control_df[\"sc\"].dropna())"
   ]
  },
  {
   "cell_type": "markdown",
   "metadata": {},
   "source": [
    "* There is a 3.88% increase the average enrollment rate after the introduction of progresa.\n",
    "\n",
    "* The p-value is much smaller than 0.05. This means that we fail to reject the null hypothesis that the average enrollment for the control and treatment group is identical."
   ]
  },
  {
   "cell_type": "markdown",
   "metadata": {},
   "source": [
    "### 2.2 Simple differences: Regression\n",
    "\n",
    "Estimate the effects of Progresa on enrollment using a regression model, by regressing the 1998 enrollment rates **of the poor** on treatment assignment. Discuss the following:\n",
    "\n",
    "* Based on this model, how much did Progresa increase the likelihood of a child enrolling?\n",
    "* How does your regression estimate compare to your t-test estimate from part 2.1?\n",
    "* Based on this regression model, can we reject the null hypothesis that the treatment effects are zero? \n",
    "* What is the counterfactual assumption underlying this regression?"
   ]
  },
  {
   "cell_type": "code",
   "execution_count": 41,
   "metadata": {
    "collapsed": false
   },
   "outputs": [
    {
     "data": {
      "text/plain": [
       "Index([u'year', u'sex', u'indig', u'dist_sec', u'sc', u'grc', u'fam_n',\n",
       "       u'min_dist', u'dist_cap', u'poor', u'progresa', u'hohedu', u'hohwag',\n",
       "       u'welfare_index', u'hohsex', u'hohage', u'age', u'village', u'folnum',\n",
       "       u'grc97', u'sc97'],\n",
       "      dtype='object')"
      ]
     },
     "execution_count": 41,
     "metadata": {},
     "output_type": "execute_result"
    }
   ],
   "source": [
    "progresa_98_poor_df.columns"
   ]
  },
  {
   "cell_type": "code",
   "execution_count": 42,
   "metadata": {
    "collapsed": false
   },
   "outputs": [],
   "source": [
    "# Your code here\n",
    "import statsmodels.formula.api as smf"
   ]
  },
  {
   "cell_type": "code",
   "execution_count": 43,
   "metadata": {
    "collapsed": false
   },
   "outputs": [],
   "source": [
    "model_1 = smf.ols(formula='sc ~ progresa', data = progresa_98_poor_df).fit()"
   ]
  },
  {
   "cell_type": "code",
   "execution_count": 44,
   "metadata": {
    "collapsed": false
   },
   "outputs": [
    {
     "data": {
      "text/plain": [
       "Intercept            0.807637\n",
       "progresa[T.basal]    0.038842\n",
       "dtype: float64"
      ]
     },
     "execution_count": 44,
     "metadata": {},
     "output_type": "execute_result"
    }
   ],
   "source": [
    "model_1.params"
   ]
  },
  {
   "cell_type": "code",
   "execution_count": 45,
   "metadata": {
    "collapsed": false
   },
   "outputs": [
    {
     "data": {
      "text/html": [
       "<div>\n",
       "<table border=\"1\" class=\"dataframe\">\n",
       "  <thead>\n",
       "    <tr style=\"text-align: right;\">\n",
       "      <th></th>\n",
       "      <th>0</th>\n",
       "      <th>1</th>\n",
       "    </tr>\n",
       "  </thead>\n",
       "  <tbody>\n",
       "    <tr>\n",
       "      <th>Intercept</th>\n",
       "      <td>0.800463</td>\n",
       "      <td>0.81481</td>\n",
       "    </tr>\n",
       "    <tr>\n",
       "      <th>progresa[T.basal]</th>\n",
       "      <td>0.029734</td>\n",
       "      <td>0.04795</td>\n",
       "    </tr>\n",
       "  </tbody>\n",
       "</table>\n",
       "</div>"
      ],
      "text/plain": [
       "                          0        1\n",
       "Intercept          0.800463  0.81481\n",
       "progresa[T.basal]  0.029734  0.04795"
      ]
     },
     "execution_count": 45,
     "metadata": {},
     "output_type": "execute_result"
    }
   ],
   "source": [
    "model_1.conf_int()"
   ]
  },
  {
   "cell_type": "code",
   "execution_count": 46,
   "metadata": {
    "collapsed": false
   },
   "outputs": [],
   "source": [
    "#model_1.summary()"
   ]
  },
  {
   "cell_type": "code",
   "execution_count": 47,
   "metadata": {
    "collapsed": false
   },
   "outputs": [
    {
     "data": {
      "text/plain": [
       "Intercept            0.000000e+00\n",
       "progresa[T.basal]    6.636344e-17\n",
       "dtype: float64"
      ]
     },
     "execution_count": 47,
     "metadata": {},
     "output_type": "execute_result"
    }
   ],
   "source": [
    "model_1.pvalues"
   ]
  },
  {
   "cell_type": "code",
   "execution_count": 48,
   "metadata": {
    "collapsed": false
   },
   "outputs": [
    {
     "data": {
      "text/html": [
       "<table class=\"simpletable\">\n",
       "<caption>OLS Regression Results</caption>\n",
       "<tr>\n",
       "  <th>Dep. Variable:</th>           <td>sc</td>        <th>  R-squared:         </th> <td>   0.003</td> \n",
       "</tr>\n",
       "<tr>\n",
       "  <th>Model:</th>                   <td>OLS</td>       <th>  Adj. R-squared:    </th> <td>   0.003</td> \n",
       "</tr>\n",
       "<tr>\n",
       "  <th>Method:</th>             <td>Least Squares</td>  <th>  F-statistic:       </th> <td>   69.87</td> \n",
       "</tr>\n",
       "<tr>\n",
       "  <th>Date:</th>             <td>Wed, 25 Jan 2017</td> <th>  Prob (F-statistic):</th> <td>6.64e-17</td> \n",
       "</tr>\n",
       "<tr>\n",
       "  <th>Time:</th>                 <td>02:48:47</td>     <th>  Log-Likelihood:    </th> <td> -11926.</td> \n",
       "</tr>\n",
       "<tr>\n",
       "  <th>No. Observations:</th>      <td> 27450</td>      <th>  AIC:               </th> <td>2.386e+04</td>\n",
       "</tr>\n",
       "<tr>\n",
       "  <th>Df Residuals:</th>          <td> 27448</td>      <th>  BIC:               </th> <td>2.387e+04</td>\n",
       "</tr>\n",
       "<tr>\n",
       "  <th>Df Model:</th>              <td>     1</td>      <th>                     </th>     <td> </td>    \n",
       "</tr>\n",
       "<tr>\n",
       "  <th>Covariance Type:</th>      <td>nonrobust</td>    <th>                     </th>     <td> </td>    \n",
       "</tr>\n",
       "</table>\n",
       "<table class=\"simpletable\">\n",
       "<tr>\n",
       "          <td></td>             <th>coef</th>     <th>std err</th>      <th>t</th>      <th>P>|t|</th> <th>[95.0% Conf. Int.]</th> \n",
       "</tr>\n",
       "<tr>\n",
       "  <th>Intercept</th>         <td>    0.8076</td> <td>    0.004</td> <td>  220.676</td> <td> 0.000</td> <td>    0.800     0.815</td>\n",
       "</tr>\n",
       "<tr>\n",
       "  <th>progresa[T.basal]</th> <td>    0.0388</td> <td>    0.005</td> <td>    8.359</td> <td> 0.000</td> <td>    0.030     0.048</td>\n",
       "</tr>\n",
       "</table>\n",
       "<table class=\"simpletable\">\n",
       "<tr>\n",
       "  <th>Omnibus:</th>       <td>7638.939</td> <th>  Durbin-Watson:     </th> <td>   1.734</td> \n",
       "</tr>\n",
       "<tr>\n",
       "  <th>Prob(Omnibus):</th>  <td> 0.000</td>  <th>  Jarque-Bera (JB):  </th> <td>15767.534</td>\n",
       "</tr>\n",
       "<tr>\n",
       "  <th>Skew:</th>           <td>-1.767</td>  <th>  Prob(JB):          </th> <td>    0.00</td> \n",
       "</tr>\n",
       "<tr>\n",
       "  <th>Kurtosis:</th>       <td> 4.140</td>  <th>  Cond. No.          </th> <td>    3.01</td> \n",
       "</tr>\n",
       "</table>"
      ],
      "text/plain": [
       "<class 'statsmodels.iolib.summary.Summary'>\n",
       "\"\"\"\n",
       "                            OLS Regression Results                            \n",
       "==============================================================================\n",
       "Dep. Variable:                     sc   R-squared:                       0.003\n",
       "Model:                            OLS   Adj. R-squared:                  0.003\n",
       "Method:                 Least Squares   F-statistic:                     69.87\n",
       "Date:                Wed, 25 Jan 2017   Prob (F-statistic):           6.64e-17\n",
       "Time:                        02:48:47   Log-Likelihood:                -11926.\n",
       "No. Observations:               27450   AIC:                         2.386e+04\n",
       "Df Residuals:                   27448   BIC:                         2.387e+04\n",
       "Df Model:                           1                                         \n",
       "Covariance Type:            nonrobust                                         \n",
       "=====================================================================================\n",
       "                        coef    std err          t      P>|t|      [95.0% Conf. Int.]\n",
       "-------------------------------------------------------------------------------------\n",
       "Intercept             0.8076      0.004    220.676      0.000         0.800     0.815\n",
       "progresa[T.basal]     0.0388      0.005      8.359      0.000         0.030     0.048\n",
       "==============================================================================\n",
       "Omnibus:                     7638.939   Durbin-Watson:                   1.734\n",
       "Prob(Omnibus):                  0.000   Jarque-Bera (JB):            15767.534\n",
       "Skew:                          -1.767   Prob(JB):                         0.00\n",
       "Kurtosis:                       4.140   Cond. No.                         3.01\n",
       "==============================================================================\n",
       "\n",
       "Warnings:\n",
       "[1] Standard Errors assume that the covariance matrix of the errors is correctly specified.\n",
       "\"\"\""
      ]
     },
     "execution_count": 48,
     "metadata": {},
     "output_type": "execute_result"
    }
   ],
   "source": [
    "model_1.summary()"
   ]
  },
  {
   "cell_type": "markdown",
   "metadata": {},
   "source": [
    "* Upon fitting the regression model, we can see that the coefficient for progresa is 0.0388, which implies that a unit increase in progresa will increase sc by 3.88%. \n",
    "\n",
    "* This value is same as that was obtained by calculating the difference between the average enrollment values. By looking at the p-values of value obtained by regression and by t-test, we can conclude that the values are statistically significant. Both these p-vaues have the same value.\n",
    "\n",
    "* The p-value for the coefficient of progresa is much less than 5% implying that we fail to reject the null hypothesis that the treatment effects are zero.\n",
    "\n",
    "* The counterfactual assumption in this case is that the enrollemnt for the poor in the year 1998 remains the same as the enrollemnt in 1997."
   ]
  },
  {
   "cell_type": "markdown",
   "metadata": {},
   "source": [
    "### 2.3 Multiple Regression\n",
    "\n",
    "Re-run the above regression estimated but this time include a set of control variables. Include, for instance, age, distance to a secondary school, gender, education of household head, welfare index, indigenous, etc.\n",
    "\n",
    "* How do the controls affect the point estimate of treatment effect?\n",
    "* How do the controls affect the standard error on the treatment effect? \n",
    "* How do you interpret the differences (or similarities) between your estimates of 2.2 and 2.3?"
   ]
  },
  {
   "cell_type": "code",
   "execution_count": 49,
   "metadata": {
    "collapsed": false
   },
   "outputs": [],
   "source": [
    "model_2 = smf.ols(\n",
    "formula=\"sc ~ progresa + age + dist_sec + sex + hohedu + welfare_index + hohsex +indig + grc97 + fam_n + min_dist + dist_cap + hohwag + hohsex + hohage\", \n",
    "data = progresa_98_poor_df).fit()"
   ]
  },
  {
   "cell_type": "code",
   "execution_count": 50,
   "metadata": {
    "collapsed": false
   },
   "outputs": [
    {
     "data": {
      "text/plain": [
       "Intercept            1.565554\n",
       "progresa[T.basal]    0.033558\n",
       "age                 -0.083172\n",
       "dist_sec            -0.008718\n",
       "sex                  0.032484\n",
       "hohedu               0.005861\n",
       "welfare_index        0.000003\n",
       "hohsex               0.007534\n",
       "indig                0.024292\n",
       "grc97                0.025498\n",
       "fam_n                0.000740\n",
       "min_dist             0.000393\n",
       "dist_cap             0.000198\n",
       "hohwag              -0.000001\n",
       "hohage              -0.000152\n",
       "dtype: float64"
      ]
     },
     "execution_count": 50,
     "metadata": {},
     "output_type": "execute_result"
    }
   ],
   "source": [
    "model_2.params"
   ]
  },
  {
   "cell_type": "code",
   "execution_count": 51,
   "metadata": {
    "collapsed": false
   },
   "outputs": [
    {
     "data": {
      "text/html": [
       "<div>\n",
       "<table border=\"1\" class=\"dataframe\">\n",
       "  <thead>\n",
       "    <tr style=\"text-align: right;\">\n",
       "      <th></th>\n",
       "      <th>0</th>\n",
       "      <th>1</th>\n",
       "    </tr>\n",
       "  </thead>\n",
       "  <tbody>\n",
       "    <tr>\n",
       "      <th>Intercept</th>\n",
       "      <td>1.525688</td>\n",
       "      <td>1.605420</td>\n",
       "    </tr>\n",
       "    <tr>\n",
       "      <th>progresa[T.basal]</th>\n",
       "      <td>0.025751</td>\n",
       "      <td>0.041366</td>\n",
       "    </tr>\n",
       "    <tr>\n",
       "      <th>age</th>\n",
       "      <td>-0.085572</td>\n",
       "      <td>-0.080772</td>\n",
       "    </tr>\n",
       "    <tr>\n",
       "      <th>dist_sec</th>\n",
       "      <td>-0.010457</td>\n",
       "      <td>-0.006980</td>\n",
       "    </tr>\n",
       "    <tr>\n",
       "      <th>sex</th>\n",
       "      <td>0.024937</td>\n",
       "      <td>0.040031</td>\n",
       "    </tr>\n",
       "    <tr>\n",
       "      <th>hohedu</th>\n",
       "      <td>0.004172</td>\n",
       "      <td>0.007550</td>\n",
       "    </tr>\n",
       "    <tr>\n",
       "      <th>welfare_index</th>\n",
       "      <td>-0.000032</td>\n",
       "      <td>0.000039</td>\n",
       "    </tr>\n",
       "    <tr>\n",
       "      <th>hohsex</th>\n",
       "      <td>-0.007565</td>\n",
       "      <td>0.022632</td>\n",
       "    </tr>\n",
       "    <tr>\n",
       "      <th>indig</th>\n",
       "      <td>0.015041</td>\n",
       "      <td>0.033544</td>\n",
       "    </tr>\n",
       "    <tr>\n",
       "      <th>grc97</th>\n",
       "      <td>0.022611</td>\n",
       "      <td>0.028384</td>\n",
       "    </tr>\n",
       "    <tr>\n",
       "      <th>fam_n</th>\n",
       "      <td>-0.000998</td>\n",
       "      <td>0.002478</td>\n",
       "    </tr>\n",
       "    <tr>\n",
       "      <th>min_dist</th>\n",
       "      <td>0.000269</td>\n",
       "      <td>0.000516</td>\n",
       "    </tr>\n",
       "    <tr>\n",
       "      <th>dist_cap</th>\n",
       "      <td>0.000126</td>\n",
       "      <td>0.000270</td>\n",
       "    </tr>\n",
       "    <tr>\n",
       "      <th>hohwag</th>\n",
       "      <td>-0.000007</td>\n",
       "      <td>0.000004</td>\n",
       "    </tr>\n",
       "    <tr>\n",
       "      <th>hohage</th>\n",
       "      <td>-0.000535</td>\n",
       "      <td>0.000230</td>\n",
       "    </tr>\n",
       "  </tbody>\n",
       "</table>\n",
       "</div>"
      ],
      "text/plain": [
       "                          0         1\n",
       "Intercept          1.525688  1.605420\n",
       "progresa[T.basal]  0.025751  0.041366\n",
       "age               -0.085572 -0.080772\n",
       "dist_sec          -0.010457 -0.006980\n",
       "sex                0.024937  0.040031\n",
       "hohedu             0.004172  0.007550\n",
       "welfare_index     -0.000032  0.000039\n",
       "hohsex            -0.007565  0.022632\n",
       "indig              0.015041  0.033544\n",
       "grc97              0.022611  0.028384\n",
       "fam_n             -0.000998  0.002478\n",
       "min_dist           0.000269  0.000516\n",
       "dist_cap           0.000126  0.000270\n",
       "hohwag            -0.000007  0.000004\n",
       "hohage            -0.000535  0.000230"
      ]
     },
     "execution_count": 51,
     "metadata": {},
     "output_type": "execute_result"
    }
   ],
   "source": [
    "model_2.conf_int()"
   ]
  },
  {
   "cell_type": "code",
   "execution_count": 52,
   "metadata": {
    "collapsed": false
   },
   "outputs": [
    {
     "data": {
      "text/plain": [
       "Intercept            0.000000e+00\n",
       "progresa[T.basal]    3.791445e-17\n",
       "age                  0.000000e+00\n",
       "dist_sec             9.226850e-23\n",
       "sex                  3.426701e-17\n",
       "hohedu               1.048816e-11\n",
       "welfare_index        8.571628e-01\n",
       "hohsex               3.280736e-01\n",
       "indig                2.672773e-07\n",
       "grc97                8.632162e-67\n",
       "fam_n                4.041443e-01\n",
       "min_dist             5.006150e-10\n",
       "dist_cap             7.962639e-08\n",
       "hohwag               6.376904e-01\n",
       "hohage               4.351597e-01\n",
       "dtype: float64"
      ]
     },
     "execution_count": 52,
     "metadata": {},
     "output_type": "execute_result"
    }
   ],
   "source": [
    "model_2.pvalues"
   ]
  },
  {
   "cell_type": "code",
   "execution_count": 53,
   "metadata": {
    "collapsed": false
   },
   "outputs": [
    {
     "data": {
      "text/html": [
       "<table class=\"simpletable\">\n",
       "<caption>OLS Regression Results</caption>\n",
       "<tr>\n",
       "  <th>Dep. Variable:</th>           <td>sc</td>        <th>  R-squared:         </th> <td>   0.280</td> \n",
       "</tr>\n",
       "<tr>\n",
       "  <th>Model:</th>                   <td>OLS</td>       <th>  Adj. R-squared:    </th> <td>   0.280</td> \n",
       "</tr>\n",
       "<tr>\n",
       "  <th>Method:</th>             <td>Least Squares</td>  <th>  F-statistic:       </th> <td>   757.4</td> \n",
       "</tr>\n",
       "<tr>\n",
       "  <th>Date:</th>             <td>Wed, 25 Jan 2017</td> <th>  Prob (F-statistic):</th>  <td>  0.00</td>  \n",
       "</tr>\n",
       "<tr>\n",
       "  <th>Time:</th>                 <td>02:48:48</td>     <th>  Log-Likelihood:    </th> <td> -7390.0</td> \n",
       "</tr>\n",
       "<tr>\n",
       "  <th>No. Observations:</th>      <td> 27260</td>      <th>  AIC:               </th> <td>1.481e+04</td>\n",
       "</tr>\n",
       "<tr>\n",
       "  <th>Df Residuals:</th>          <td> 27245</td>      <th>  BIC:               </th> <td>1.493e+04</td>\n",
       "</tr>\n",
       "<tr>\n",
       "  <th>Df Model:</th>              <td>    14</td>      <th>                     </th>     <td> </td>    \n",
       "</tr>\n",
       "<tr>\n",
       "  <th>Covariance Type:</th>      <td>nonrobust</td>    <th>                     </th>     <td> </td>    \n",
       "</tr>\n",
       "</table>\n",
       "<table class=\"simpletable\">\n",
       "<tr>\n",
       "          <td></td>             <th>coef</th>     <th>std err</th>      <th>t</th>      <th>P>|t|</th> <th>[95.0% Conf. Int.]</th> \n",
       "</tr>\n",
       "<tr>\n",
       "  <th>Intercept</th>         <td>    1.5656</td> <td>    0.020</td> <td>   76.972</td> <td> 0.000</td> <td>    1.526     1.605</td>\n",
       "</tr>\n",
       "<tr>\n",
       "  <th>progresa[T.basal]</th> <td>    0.0336</td> <td>    0.004</td> <td>    8.425</td> <td> 0.000</td> <td>    0.026     0.041</td>\n",
       "</tr>\n",
       "<tr>\n",
       "  <th>age</th>               <td>   -0.0832</td> <td>    0.001</td> <td>  -67.928</td> <td> 0.000</td> <td>   -0.086    -0.081</td>\n",
       "</tr>\n",
       "<tr>\n",
       "  <th>dist_sec</th>          <td>   -0.0087</td> <td>    0.001</td> <td>   -9.829</td> <td> 0.000</td> <td>   -0.010    -0.007</td>\n",
       "</tr>\n",
       "<tr>\n",
       "  <th>sex</th>               <td>    0.0325</td> <td>    0.004</td> <td>    8.437</td> <td> 0.000</td> <td>    0.025     0.040</td>\n",
       "</tr>\n",
       "<tr>\n",
       "  <th>hohedu</th>            <td>    0.0059</td> <td>    0.001</td> <td>    6.803</td> <td> 0.000</td> <td>    0.004     0.008</td>\n",
       "</tr>\n",
       "<tr>\n",
       "  <th>welfare_index</th>     <td> 3.269e-06</td> <td> 1.82e-05</td> <td>    0.180</td> <td> 0.857</td> <td>-3.23e-05  3.89e-05</td>\n",
       "</tr>\n",
       "<tr>\n",
       "  <th>hohsex</th>            <td>    0.0075</td> <td>    0.008</td> <td>    0.978</td> <td> 0.328</td> <td>   -0.008     0.023</td>\n",
       "</tr>\n",
       "<tr>\n",
       "  <th>indig</th>             <td>    0.0243</td> <td>    0.005</td> <td>    5.146</td> <td> 0.000</td> <td>    0.015     0.034</td>\n",
       "</tr>\n",
       "<tr>\n",
       "  <th>grc97</th>             <td>    0.0255</td> <td>    0.001</td> <td>   17.312</td> <td> 0.000</td> <td>    0.023     0.028</td>\n",
       "</tr>\n",
       "<tr>\n",
       "  <th>fam_n</th>             <td>    0.0007</td> <td>    0.001</td> <td>    0.834</td> <td> 0.404</td> <td>   -0.001     0.002</td>\n",
       "</tr>\n",
       "<tr>\n",
       "  <th>min_dist</th>          <td>    0.0004</td> <td> 6.31e-05</td> <td>    6.221</td> <td> 0.000</td> <td>    0.000     0.001</td>\n",
       "</tr>\n",
       "<tr>\n",
       "  <th>dist_cap</th>          <td>    0.0002</td> <td> 3.68e-05</td> <td>    5.369</td> <td> 0.000</td> <td>    0.000     0.000</td>\n",
       "</tr>\n",
       "<tr>\n",
       "  <th>hohwag</th>            <td>-1.325e-06</td> <td> 2.81e-06</td> <td>   -0.471</td> <td> 0.638</td> <td>-6.84e-06  4.19e-06</td>\n",
       "</tr>\n",
       "<tr>\n",
       "  <th>hohage</th>            <td>   -0.0002</td> <td>    0.000</td> <td>   -0.780</td> <td> 0.435</td> <td>   -0.001     0.000</td>\n",
       "</tr>\n",
       "</table>\n",
       "<table class=\"simpletable\">\n",
       "<tr>\n",
       "  <th>Omnibus:</th>       <td>3066.652</td> <th>  Durbin-Watson:     </th> <td>   1.730</td>\n",
       "</tr>\n",
       "<tr>\n",
       "  <th>Prob(Omnibus):</th>  <td> 0.000</td>  <th>  Jarque-Bera (JB):  </th> <td>4200.446</td>\n",
       "</tr>\n",
       "<tr>\n",
       "  <th>Skew:</th>           <td>-0.943</td>  <th>  Prob(JB):          </th> <td>    0.00</td>\n",
       "</tr>\n",
       "<tr>\n",
       "  <th>Kurtosis:</th>       <td> 3.371</td>  <th>  Cond. No.          </th> <td>1.10e+04</td>\n",
       "</tr>\n",
       "</table>"
      ],
      "text/plain": [
       "<class 'statsmodels.iolib.summary.Summary'>\n",
       "\"\"\"\n",
       "                            OLS Regression Results                            \n",
       "==============================================================================\n",
       "Dep. Variable:                     sc   R-squared:                       0.280\n",
       "Model:                            OLS   Adj. R-squared:                  0.280\n",
       "Method:                 Least Squares   F-statistic:                     757.4\n",
       "Date:                Wed, 25 Jan 2017   Prob (F-statistic):               0.00\n",
       "Time:                        02:48:48   Log-Likelihood:                -7390.0\n",
       "No. Observations:               27260   AIC:                         1.481e+04\n",
       "Df Residuals:                   27245   BIC:                         1.493e+04\n",
       "Df Model:                          14                                         \n",
       "Covariance Type:            nonrobust                                         \n",
       "=====================================================================================\n",
       "                        coef    std err          t      P>|t|      [95.0% Conf. Int.]\n",
       "-------------------------------------------------------------------------------------\n",
       "Intercept             1.5656      0.020     76.972      0.000         1.526     1.605\n",
       "progresa[T.basal]     0.0336      0.004      8.425      0.000         0.026     0.041\n",
       "age                  -0.0832      0.001    -67.928      0.000        -0.086    -0.081\n",
       "dist_sec             -0.0087      0.001     -9.829      0.000        -0.010    -0.007\n",
       "sex                   0.0325      0.004      8.437      0.000         0.025     0.040\n",
       "hohedu                0.0059      0.001      6.803      0.000         0.004     0.008\n",
       "welfare_index      3.269e-06   1.82e-05      0.180      0.857     -3.23e-05  3.89e-05\n",
       "hohsex                0.0075      0.008      0.978      0.328        -0.008     0.023\n",
       "indig                 0.0243      0.005      5.146      0.000         0.015     0.034\n",
       "grc97                 0.0255      0.001     17.312      0.000         0.023     0.028\n",
       "fam_n                 0.0007      0.001      0.834      0.404        -0.001     0.002\n",
       "min_dist              0.0004   6.31e-05      6.221      0.000         0.000     0.001\n",
       "dist_cap              0.0002   3.68e-05      5.369      0.000         0.000     0.000\n",
       "hohwag            -1.325e-06   2.81e-06     -0.471      0.638     -6.84e-06  4.19e-06\n",
       "hohage               -0.0002      0.000     -0.780      0.435        -0.001     0.000\n",
       "==============================================================================\n",
       "Omnibus:                     3066.652   Durbin-Watson:                   1.730\n",
       "Prob(Omnibus):                  0.000   Jarque-Bera (JB):             4200.446\n",
       "Skew:                          -0.943   Prob(JB):                         0.00\n",
       "Kurtosis:                       3.371   Cond. No.                     1.10e+04\n",
       "==============================================================================\n",
       "\n",
       "Warnings:\n",
       "[1] Standard Errors assume that the covariance matrix of the errors is correctly specified.\n",
       "[2] The condition number is large, 1.1e+04. This might indicate that there are\n",
       "strong multicollinearity or other numerical problems.\n",
       "\"\"\""
      ]
     },
     "execution_count": 53,
     "metadata": {},
     "output_type": "execute_result"
    }
   ],
   "source": [
    "model_2.summary()"
   ]
  },
  {
   "cell_type": "markdown",
   "metadata": {},
   "source": [
    "* After introduction of controls, we can see that the value of progresa decreases slightly from 3.8% to 3.3%. This change can be attributed to these controls. The significant controls in this case are - age, grc97, dist_sec, hohedu, indig, min_dist and dist_cap. Of these values, the age and grc97 affect the sc value a lot. For instance, a unit increase in age decreases the value of sc by 0.08 units keeping all other factors constant.\n",
    "\n",
    "* The standard error in the measurement of the coefficient of the treatment effect is 0.5% in the 1st model and 0.4% in the 2nd model, therefore the controls measure the treatment effect with more accuracy.\n",
    "\n",
    "* The coefficient value of the treatment decreases after the introduction of more controls. This is because the controls have some sort of effect on the treatment. More specifically, in the progresa scheme, houses with women as heads were given preference.\n"
   ]
  },
  {
   "cell_type": "markdown",
   "metadata": {},
   "source": [
    "### 2.4 Difference-in-Difference, version 1 (tabular)\n",
    "\n",
    "Thus far, we have computed the effects of Progresa by estimating the difference in 1998 enrollment rates across villages. An alternative approach would be to compute the treatment effect using a difference-in-differences framework.\n",
    "\n",
    "Begin by estimating the average treatment effects of the program for poor households using data from 1997 and 1998. Specifically, calculate the difference (between 1997 and 1998) in enrollment rates among poor households in treated villages; then compute the difference (between 1997 and 1998) in enrollment rates among poor households in control villages. The difference between these two differences is your estimate.\n",
    "\n",
    "* What is your estimate of the impact, and how does it compare to your earlier (simple difference) results?\n",
    "* What is the counterfactual assumption underlying this estimate? \n"
   ]
  },
  {
   "cell_type": "code",
   "execution_count": 54,
   "metadata": {
    "collapsed": false
   },
   "outputs": [],
   "source": [
    "# Your code here\n",
    "progresa_97_df = progresa_df[progresa_df[\"year\"] == 97]\n",
    "progresa_97_control_df = progresa_97_df[progresa_97_df[\"progresa\"] == \"0\"]\n",
    "progresa_97_treatment_df = progresa_97_df[progresa_97_df[\"progresa\"] == \"basal\"]\n",
    "progresa_97_poor_control_df = progresa_97_control_df[progresa_97_control_df[\"poor\"] == \"pobre\"]\n",
    "progresa_97_poor_treatment_df = progresa_97_treatment_df[progresa_97_treatment_df[\"poor\"] == \"pobre\"]"
   ]
  },
  {
   "cell_type": "code",
   "execution_count": 55,
   "metadata": {
    "collapsed": false
   },
   "outputs": [],
   "source": [
    "diff_1 = progresa_98_poor_treatment_df[\"sc\"].mean()-progresa_97_poor_treatment_df[\"sc\"].mean()"
   ]
  },
  {
   "cell_type": "code",
   "execution_count": 56,
   "metadata": {
    "collapsed": false
   },
   "outputs": [],
   "source": [
    "diff_2 = (progresa_98_poor_control_df[\"sc\"].mean()-progresa_97_poor_control_df[\"sc\"].mean())"
   ]
  },
  {
   "cell_type": "code",
   "execution_count": 57,
   "metadata": {
    "collapsed": false
   },
   "outputs": [
    {
     "data": {
      "text/plain": [
       "0.031331280319323085"
      ]
     },
     "execution_count": 57,
     "metadata": {},
     "output_type": "execute_result"
    }
   ],
   "source": [
    "diff_1 - diff_2"
   ]
  },
  {
   "cell_type": "code",
   "execution_count": 58,
   "metadata": {
    "collapsed": false
   },
   "outputs": [
    {
     "data": {
      "text/plain": [
       "0.8151478410761077"
      ]
     },
     "execution_count": 58,
     "metadata": {},
     "output_type": "execute_result"
    }
   ],
   "source": [
    "#counterfactual\n",
    "progresa_98_poor_treatment_df[\"sc\"].mean()-(diff_1-diff_2)"
   ]
  },
  {
   "cell_type": "code",
   "execution_count": 59,
   "metadata": {
    "collapsed": false
   },
   "outputs": [
    {
     "data": {
      "text/plain": [
       "0.8151860030575845"
      ]
     },
     "execution_count": 59,
     "metadata": {},
     "output_type": "execute_result"
    }
   ],
   "source": [
    "progresa_97_poor_control_df[\"sc\"].mean()"
   ]
  },
  {
   "cell_type": "markdown",
   "metadata": {},
   "source": [
    "* The estimate of impact calculated using the double difference comes out to be 0.0313. This is smaller than 0.0388, the value obtained using single difference method.It is calculated by calculating the difference between differences between treatmeant and control after and before the introduction of the intervention. A positive value of the double difference implies that progresa had \n",
    "\n",
    "* The underlying counterfactual assumption for this estimate is that in the absence of the intervention, the treatment and the control group show a similar trend or behavior."
   ]
  },
  {
   "cell_type": "markdown",
   "metadata": {},
   "source": [
    "### 2.5 Difference-in-Difference, version 1 (regression)\n",
    "\n",
    "Now use a regression specification to estimate the average treatment effects of the program in a difference-in-differences framework. Include at least 5 control variables.\n",
    "\n",
    "* What is your estimate of the impact of Progresa? Be very specific in interpreting your coefficients and standard errors, and make sure to specify exactly what units you are measuring and estimating.\n",
    "* How do these estimates of the treatment effect compare to the estimates based on the simple difference?\n",
    "* How do these estimates compare to the difference-in-difference estimates from 2.4 above? What accounts for these differences?\n",
    "* What is the counterfactual assumption underlying this regression? "
   ]
  },
  {
   "cell_type": "code",
   "execution_count": 60,
   "metadata": {
    "collapsed": true
   },
   "outputs": [],
   "source": [
    "progresa_poor_df=progresa_df[progresa_df[\"poor\"]==\"pobre\"]"
   ]
  },
  {
   "cell_type": "code",
   "execution_count": 61,
   "metadata": {
    "collapsed": false
   },
   "outputs": [
    {
     "name": "stderr",
     "output_type": "stream",
     "text": [
      "/home/aamir/anaconda2/lib/python2.7/site-packages/ipykernel/__main__.py:2: SettingWithCopyWarning: \n",
      "A value is trying to be set on a copy of a slice from a DataFrame.\n",
      "Try using .loc[row_indexer,col_indexer] = value instead\n",
      "\n",
      "See the caveats in the documentation: http://pandas.pydata.org/pandas-docs/stable/indexing.html#indexing-view-versus-copy\n",
      "  from ipykernel import kernelapp as app\n",
      "/home/aamir/anaconda2/lib/python2.7/site-packages/ipykernel/__main__.py:3: SettingWithCopyWarning: \n",
      "A value is trying to be set on a copy of a slice from a DataFrame.\n",
      "Try using .loc[row_indexer,col_indexer] = value instead\n",
      "\n",
      "See the caveats in the documentation: http://pandas.pydata.org/pandas-docs/stable/indexing.html#indexing-view-versus-copy\n",
      "  app.launch_new_instance()\n"
     ]
    }
   ],
   "source": [
    "# Your code here\n",
    "progresa_poor_df[\"Ti\"]=\"\"\n",
    "progresa_poor_df[\"Posti\"]=\"\""
   ]
  },
  {
   "cell_type": "code",
   "execution_count": 62,
   "metadata": {
    "collapsed": false
   },
   "outputs": [
    {
     "data": {
      "text/plain": [
       "Index([u'year', u'sex', u'indig', u'dist_sec', u'sc', u'grc', u'fam_n',\n",
       "       u'min_dist', u'dist_cap', u'poor', u'progresa', u'hohedu', u'hohwag',\n",
       "       u'welfare_index', u'hohsex', u'hohage', u'age', u'village', u'folnum',\n",
       "       u'grc97', u'sc97', u'Ti', u'Posti'],\n",
       "      dtype='object')"
      ]
     },
     "execution_count": 62,
     "metadata": {},
     "output_type": "execute_result"
    }
   ],
   "source": [
    "progresa_poor_df.columns"
   ]
  },
  {
   "cell_type": "code",
   "execution_count": 63,
   "metadata": {
    "collapsed": false
   },
   "outputs": [
    {
     "name": "stderr",
     "output_type": "stream",
     "text": [
      "/home/aamir/anaconda2/lib/python2.7/site-packages/pandas/core/indexing.py:465: SettingWithCopyWarning: \n",
      "A value is trying to be set on a copy of a slice from a DataFrame.\n",
      "Try using .loc[row_indexer,col_indexer] = value instead\n",
      "\n",
      "See the caveats in the documentation: http://pandas.pydata.org/pandas-docs/stable/indexing.html#indexing-view-versus-copy\n",
      "  self.obj[item] = s\n"
     ]
    }
   ],
   "source": [
    "progresa_poor_df.loc[progresa_poor_df[\"progresa\"]==\"0\",\"Ti\"]=0\n",
    "progresa_poor_df.loc[progresa_poor_df[\"progresa\"]==\"basal\",\"Ti\"]=1\n",
    "progresa_poor_df.loc[progresa_poor_df[\"year\"]==97,\"Posti\"]=0\n",
    "progresa_poor_df.loc[progresa_poor_df[\"year\"]==98,\"Posti\"]=1"
   ]
  },
  {
   "cell_type": "code",
   "execution_count": 64,
   "metadata": {
    "collapsed": false
   },
   "outputs": [
    {
     "name": "stderr",
     "output_type": "stream",
     "text": [
      "/home/aamir/anaconda2/lib/python2.7/site-packages/ipykernel/__main__.py:1: SettingWithCopyWarning: \n",
      "A value is trying to be set on a copy of a slice from a DataFrame.\n",
      "Try using .loc[row_indexer,col_indexer] = value instead\n",
      "\n",
      "See the caveats in the documentation: http://pandas.pydata.org/pandas-docs/stable/indexing.html#indexing-view-versus-copy\n",
      "  if __name__ == '__main__':\n"
     ]
    }
   ],
   "source": [
    "progresa_poor_df[\"TiXPosti\"]=progresa_poor_df[\"Ti\"]*progresa_poor_df[\"Posti\"]"
   ]
  },
  {
   "cell_type": "code",
   "execution_count": 65,
   "metadata": {
    "collapsed": false
   },
   "outputs": [],
   "source": [
    "#age,dist_sec,sex,hohedu,grc97,min_dist"
   ]
  },
  {
   "cell_type": "code",
   "execution_count": 66,
   "metadata": {
    "collapsed": true
   },
   "outputs": [],
   "source": [
    "model_3 = smf.ols(\n",
    "formula=\"sc ~ Ti + Posti + TiXPosti + age + dist_sec + sex + hohedu + grc97 + min_dist\", data = progresa_poor_df).fit()"
   ]
  },
  {
   "cell_type": "code",
   "execution_count": 67,
   "metadata": {
    "collapsed": false
   },
   "outputs": [
    {
     "data": {
      "text/plain": [
       "Intercept        1.564682\n",
       "Ti[T.1]          0.000909\n",
       "Posti[T.1]       0.052104\n",
       "TiXPosti[T.1]    0.031407\n",
       "age             -0.089757\n",
       "dist_sec        -0.007119\n",
       "sex              0.036014\n",
       "hohedu           0.004819\n",
       "grc97            0.035582\n",
       "min_dist         0.000694\n",
       "dtype: float64"
      ]
     },
     "execution_count": 67,
     "metadata": {},
     "output_type": "execute_result"
    }
   ],
   "source": [
    "model_3.params"
   ]
  },
  {
   "cell_type": "code",
   "execution_count": 68,
   "metadata": {
    "collapsed": false
   },
   "outputs": [
    {
     "data": {
      "text/plain": [
       "Intercept         0.000000e+00\n",
       "Ti[T.1]           8.076876e-01\n",
       "Posti[T.1]        4.813541e-33\n",
       "TiXPosti[T.1]     7.914134e-09\n",
       "age               0.000000e+00\n",
       "dist_sec          2.774288e-31\n",
       "sex               2.693998e-42\n",
       "hohedu            1.849707e-19\n",
       "grc97            5.132244e-271\n",
       "min_dist         1.172431e-106\n",
       "dtype: float64"
      ]
     },
     "execution_count": 68,
     "metadata": {},
     "output_type": "execute_result"
    }
   ],
   "source": [
    "model_3.pvalues"
   ]
  },
  {
   "cell_type": "code",
   "execution_count": 69,
   "metadata": {
    "collapsed": false
   },
   "outputs": [
    {
     "data": {
      "text/html": [
       "<table class=\"simpletable\">\n",
       "<caption>OLS Regression Results</caption>\n",
       "<tr>\n",
       "  <th>Dep. Variable:</th>           <td>sc</td>        <th>  R-squared:         </th> <td>   0.296</td> \n",
       "</tr>\n",
       "<tr>\n",
       "  <th>Model:</th>                   <td>OLS</td>       <th>  Adj. R-squared:    </th> <td>   0.296</td> \n",
       "</tr>\n",
       "<tr>\n",
       "  <th>Method:</th>             <td>Least Squares</td>  <th>  F-statistic:       </th> <td>   2726.</td> \n",
       "</tr>\n",
       "<tr>\n",
       "  <th>Date:</th>             <td>Wed, 25 Jan 2017</td> <th>  Prob (F-statistic):</th>  <td>  0.00</td>  \n",
       "</tr>\n",
       "<tr>\n",
       "  <th>Time:</th>                 <td>02:48:49</td>     <th>  Log-Likelihood:    </th> <td> -16031.</td> \n",
       "</tr>\n",
       "<tr>\n",
       "  <th>No. Observations:</th>      <td> 58352</td>      <th>  AIC:               </th> <td>3.208e+04</td>\n",
       "</tr>\n",
       "<tr>\n",
       "  <th>Df Residuals:</th>          <td> 58342</td>      <th>  BIC:               </th> <td>3.217e+04</td>\n",
       "</tr>\n",
       "<tr>\n",
       "  <th>Df Model:</th>              <td>     9</td>      <th>                     </th>     <td> </td>    \n",
       "</tr>\n",
       "<tr>\n",
       "  <th>Covariance Type:</th>      <td>nonrobust</td>    <th>                     </th>     <td> </td>    \n",
       "</tr>\n",
       "</table>\n",
       "<table class=\"simpletable\">\n",
       "<tr>\n",
       "        <td></td>           <th>coef</th>     <th>std err</th>      <th>t</th>      <th>P>|t|</th> <th>[95.0% Conf. Int.]</th> \n",
       "</tr>\n",
       "<tr>\n",
       "  <th>Intercept</th>     <td>    1.5647</td> <td>    0.008</td> <td>  197.393</td> <td> 0.000</td> <td>    1.549     1.580</td>\n",
       "</tr>\n",
       "<tr>\n",
       "  <th>Ti[T.1]</th>       <td>    0.0009</td> <td>    0.004</td> <td>    0.243</td> <td> 0.808</td> <td>   -0.006     0.008</td>\n",
       "</tr>\n",
       "<tr>\n",
       "  <th>Posti[T.1]</th>    <td>    0.0521</td> <td>    0.004</td> <td>   11.982</td> <td> 0.000</td> <td>    0.044     0.061</td>\n",
       "</tr>\n",
       "<tr>\n",
       "  <th>TiXPosti[T.1]</th> <td>    0.0314</td> <td>    0.005</td> <td>    5.771</td> <td> 0.000</td> <td>    0.021     0.042</td>\n",
       "</tr>\n",
       "<tr>\n",
       "  <th>age</th>           <td>   -0.0898</td> <td>    0.001</td> <td> -109.676</td> <td> 0.000</td> <td>   -0.091    -0.088</td>\n",
       "</tr>\n",
       "<tr>\n",
       "  <th>dist_sec</th>      <td>   -0.0071</td> <td>    0.001</td> <td>  -11.641</td> <td> 0.000</td> <td>   -0.008    -0.006</td>\n",
       "</tr>\n",
       "<tr>\n",
       "  <th>sex</th>           <td>    0.0360</td> <td>    0.003</td> <td>   13.640</td> <td> 0.000</td> <td>    0.031     0.041</td>\n",
       "</tr>\n",
       "<tr>\n",
       "  <th>hohedu</th>        <td>    0.0048</td> <td>    0.001</td> <td>    9.025</td> <td> 0.000</td> <td>    0.004     0.006</td>\n",
       "</tr>\n",
       "<tr>\n",
       "  <th>grc97</th>         <td>    0.0356</td> <td>    0.001</td> <td>   35.361</td> <td> 0.000</td> <td>    0.034     0.038</td>\n",
       "</tr>\n",
       "<tr>\n",
       "  <th>min_dist</th>      <td>    0.0007</td> <td> 3.16e-05</td> <td>   21.982</td> <td> 0.000</td> <td>    0.001     0.001</td>\n",
       "</tr>\n",
       "</table>\n",
       "<table class=\"simpletable\">\n",
       "<tr>\n",
       "  <th>Omnibus:</th>       <td>5922.931</td> <th>  Durbin-Watson:     </th> <td>   1.492</td>\n",
       "</tr>\n",
       "<tr>\n",
       "  <th>Prob(Omnibus):</th>  <td> 0.000</td>  <th>  Jarque-Bera (JB):  </th> <td>7883.119</td>\n",
       "</tr>\n",
       "<tr>\n",
       "  <th>Skew:</th>           <td>-0.884</td>  <th>  Prob(JB):          </th> <td>    0.00</td>\n",
       "</tr>\n",
       "<tr>\n",
       "  <th>Kurtosis:</th>       <td> 3.340</td>  <th>  Cond. No.          </th> <td>    731.</td>\n",
       "</tr>\n",
       "</table>"
      ],
      "text/plain": [
       "<class 'statsmodels.iolib.summary.Summary'>\n",
       "\"\"\"\n",
       "                            OLS Regression Results                            \n",
       "==============================================================================\n",
       "Dep. Variable:                     sc   R-squared:                       0.296\n",
       "Model:                            OLS   Adj. R-squared:                  0.296\n",
       "Method:                 Least Squares   F-statistic:                     2726.\n",
       "Date:                Wed, 25 Jan 2017   Prob (F-statistic):               0.00\n",
       "Time:                        02:48:49   Log-Likelihood:                -16031.\n",
       "No. Observations:               58352   AIC:                         3.208e+04\n",
       "Df Residuals:                   58342   BIC:                         3.217e+04\n",
       "Df Model:                           9                                         \n",
       "Covariance Type:            nonrobust                                         \n",
       "=================================================================================\n",
       "                    coef    std err          t      P>|t|      [95.0% Conf. Int.]\n",
       "---------------------------------------------------------------------------------\n",
       "Intercept         1.5647      0.008    197.393      0.000         1.549     1.580\n",
       "Ti[T.1]           0.0009      0.004      0.243      0.808        -0.006     0.008\n",
       "Posti[T.1]        0.0521      0.004     11.982      0.000         0.044     0.061\n",
       "TiXPosti[T.1]     0.0314      0.005      5.771      0.000         0.021     0.042\n",
       "age              -0.0898      0.001   -109.676      0.000        -0.091    -0.088\n",
       "dist_sec         -0.0071      0.001    -11.641      0.000        -0.008    -0.006\n",
       "sex               0.0360      0.003     13.640      0.000         0.031     0.041\n",
       "hohedu            0.0048      0.001      9.025      0.000         0.004     0.006\n",
       "grc97             0.0356      0.001     35.361      0.000         0.034     0.038\n",
       "min_dist          0.0007   3.16e-05     21.982      0.000         0.001     0.001\n",
       "==============================================================================\n",
       "Omnibus:                     5922.931   Durbin-Watson:                   1.492\n",
       "Prob(Omnibus):                  0.000   Jarque-Bera (JB):             7883.119\n",
       "Skew:                          -0.884   Prob(JB):                         0.00\n",
       "Kurtosis:                       3.340   Cond. No.                         731.\n",
       "==============================================================================\n",
       "\n",
       "Warnings:\n",
       "[1] Standard Errors assume that the covariance matrix of the errors is correctly specified.\n",
       "\"\"\""
      ]
     },
     "execution_count": 69,
     "metadata": {},
     "output_type": "execute_result"
    }
   ],
   "source": [
    "model_3.summary()"
   ]
  },
  {
   "cell_type": "markdown",
   "metadata": {},
   "source": [
    "* By looking at the coefficient of the interaction term i.e. TiXPositi after fitting the regression model, we find the double difference to be equal to 0.0314. This implies that the impact of progresa over the time period has led to an increase of 3.14% in the average enrollment rate. The standard error in the measurement of the double difference is about 0.005 i.e. the actual impact of progresa on the average enrollment rate (sc) is 0.0314 +- 0.005 or in other words, in the range 3.09% to 3.19%. Over here, we have neglected the interaction term of the controls with the time and assumed that the control variables show similar trends. The rationale behind this is that variables like sex, distances, grade in the year 1997 will remain unchanged in time.\n",
    "\n",
    "* These effects of treatment effect are lesser than the effect reflected by single difference method. The single difference method shows the impact of progresa as  a 3.8% increase in average enrollment rate.\n",
    "\n",
    "* The double difference estimator in  2.4 is around 0.0313 which is very close to 0.0314 i.e. double difference obtained by fitting the regression model. The slight change is due to the fact that we have introduced 5 control variables in our regression model\n",
    "\n",
    "* The underlying assumption for the counterfactual is that in the absence of intervention, the control & treatment show similar behavior across the time. The extra assumption, as pointed out in part 1, is that the control variables do not change across the time."
   ]
  },
  {
   "cell_type": "markdown",
   "metadata": {},
   "source": [
    "### 2.6 Difference-in-Difference, version 2\n",
    "\n",
    "In the previous problem, you estimated a difference-in-differences model that compared changes in enrollment rates over time across treatment and control villages. An alternative approach would be to compare enrollment rates in 1998 between poor and non-poor across treatment and control villages. \n",
    "\n",
    "* How would we estimate this version of the treatment effects in a regression model? \n",
    "* What is the counterfactual assumption underlying this regression?\n",
    "* How do these treatment effects compare to the estimates above?\n",
    "* Discuss some possible explanations for differences or similarities "
   ]
  },
  {
   "cell_type": "code",
   "execution_count": 70,
   "metadata": {
    "collapsed": false
   },
   "outputs": [
    {
     "name": "stderr",
     "output_type": "stream",
     "text": [
      "/home/aamir/anaconda2/lib/python2.7/site-packages/ipykernel/__main__.py:2: SettingWithCopyWarning: \n",
      "A value is trying to be set on a copy of a slice from a DataFrame.\n",
      "Try using .loc[row_indexer,col_indexer] = value instead\n",
      "\n",
      "See the caveats in the documentation: http://pandas.pydata.org/pandas-docs/stable/indexing.html#indexing-view-versus-copy\n",
      "  from ipykernel import kernelapp as app\n",
      "/home/aamir/anaconda2/lib/python2.7/site-packages/ipykernel/__main__.py:3: SettingWithCopyWarning: \n",
      "A value is trying to be set on a copy of a slice from a DataFrame.\n",
      "Try using .loc[row_indexer,col_indexer] = value instead\n",
      "\n",
      "See the caveats in the documentation: http://pandas.pydata.org/pandas-docs/stable/indexing.html#indexing-view-versus-copy\n",
      "  app.launch_new_instance()\n"
     ]
    }
   ],
   "source": [
    "# Your code here\n",
    "progresa_98_df[\"Poori\"]=\"\"\n",
    "progresa_98_df[\"Ti\"]=\"\"\n",
    "progresa_98_df.loc[progresa_98_df[\"poor\"]==\"pobre\",\"Poori\"] = 1\n",
    "progresa_98_df.loc[progresa_98_df[\"poor\"]!=\"pobre\",\"Poori\"] = 0\n",
    "progresa_98_df.loc[progresa_98_df[\"progresa\"]==\"basal\",\"Ti\"] = 1\n",
    "progresa_98_df.loc[progresa_98_df[\"progresa\"]==\"0\",\"Ti\"] = 0"
   ]
  },
  {
   "cell_type": "code",
   "execution_count": 71,
   "metadata": {
    "collapsed": false
   },
   "outputs": [
    {
     "name": "stderr",
     "output_type": "stream",
     "text": [
      "/home/aamir/anaconda2/lib/python2.7/site-packages/ipykernel/__main__.py:1: SettingWithCopyWarning: \n",
      "A value is trying to be set on a copy of a slice from a DataFrame.\n",
      "Try using .loc[row_indexer,col_indexer] = value instead\n",
      "\n",
      "See the caveats in the documentation: http://pandas.pydata.org/pandas-docs/stable/indexing.html#indexing-view-versus-copy\n",
      "  if __name__ == '__main__':\n"
     ]
    }
   ],
   "source": [
    "progresa_98_df[\"TiXPoori\"]=progresa_98_df[\"Ti\"]*progresa_98_df[\"Poori\"]"
   ]
  },
  {
   "cell_type": "code",
   "execution_count": 72,
   "metadata": {
    "collapsed": false
   },
   "outputs": [
    {
     "data": {
      "text/plain": [
       "Index([u'year', u'sex', u'indig', u'dist_sec', u'sc', u'grc', u'fam_n',\n",
       "       u'min_dist', u'dist_cap', u'poor', u'progresa', u'hohedu', u'hohwag',\n",
       "       u'welfare_index', u'hohsex', u'hohage', u'age', u'village', u'folnum',\n",
       "       u'grc97', u'sc97', u'Poori', u'Ti', u'TiXPoori'],\n",
       "      dtype='object')"
      ]
     },
     "execution_count": 72,
     "metadata": {},
     "output_type": "execute_result"
    }
   ],
   "source": [
    "progresa_98_df.columns"
   ]
  },
  {
   "cell_type": "code",
   "execution_count": 73,
   "metadata": {
    "collapsed": true
   },
   "outputs": [],
   "source": [
    "model_4 = smf.ols(\n",
    "formula=\"sc ~ Ti + Poori + TiXPoori + age + dist_sec + sex + hohedu + grc97 + min_dist\", data = progresa_98_df).fit()"
   ]
  },
  {
   "cell_type": "code",
   "execution_count": 74,
   "metadata": {
    "collapsed": false
   },
   "outputs": [
    {
     "data": {
      "text/plain": [
       "Intercept        1.590025\n",
       "Ti[T.1]          0.025927\n",
       "Poori[T.1]      -0.005462\n",
       "TiXPoori[T.1]    0.006138\n",
       "age             -0.084186\n",
       "dist_sec        -0.009094\n",
       "sex              0.032699\n",
       "hohedu           0.007289\n",
       "grc97            0.025827\n",
       "min_dist         0.000715\n",
       "dtype: float64"
      ]
     },
     "execution_count": 74,
     "metadata": {},
     "output_type": "execute_result"
    }
   ],
   "source": [
    "model_4.params"
   ]
  },
  {
   "cell_type": "markdown",
   "metadata": {},
   "source": [
    "* We can estimate this effect of progresa in a regression model by creating a dummy variable for treatment i.e. \"DTi\" & another dummy variable \"DPoor\" to account for poor and non poor.We can assign these dummy variables a value of 0 or 1. The DTi variable will control for the treatment and control groups. The DPoor variable will control for poor and non poor. After running the regression model, the coefficient of the interaction between the dummy terms will give us the treatment effect.\n",
    "\n",
    "* The counterfactual assumption underlying this regression is that in the absence of the intervention, the average enrollment rate in the control and treatment villages would have followed the same trends.\n",
    "\n",
    "* These estimates are low as compared to the other estimates.\n",
    "\n",
    "* The reason for different estimate is that earlier we were just ooking for the impact on the poor and accomodated only poor people in the analysis. However, in thisregression model, we have accounted for non poor people as well. The estimates may be affected by this reason."
   ]
  },
  {
   "cell_type": "markdown",
   "metadata": {},
   "source": [
    "### 2.7 Spillover effects (extra credit)\n",
    "\n",
    "Thus far, we have focused on the impact of PROGRESA on poor households. Repeat your analysis in 2.5, instead focusing on the impact of PROGRESA on non-poor households. \n",
    "* A: Describe one or two reasons why PROGRESA might have impacted non-poor households.\n",
    "* B: Do you observe any impacts of PROGRESA on the non-poor?"
   ]
  },
  {
   "cell_type": "code",
   "execution_count": 75,
   "metadata": {
    "collapsed": false
   },
   "outputs": [],
   "source": [
    "# Your code here\n",
    "progresa_nonpoor_df=progresa_df[progresa_df[\"poor\"]!=\"pobre\"]"
   ]
  },
  {
   "cell_type": "code",
   "execution_count": 76,
   "metadata": {
    "collapsed": false
   },
   "outputs": [
    {
     "name": "stderr",
     "output_type": "stream",
     "text": [
      "/home/aamir/anaconda2/lib/python2.7/site-packages/ipykernel/__main__.py:1: SettingWithCopyWarning: \n",
      "A value is trying to be set on a copy of a slice from a DataFrame.\n",
      "Try using .loc[row_indexer,col_indexer] = value instead\n",
      "\n",
      "See the caveats in the documentation: http://pandas.pydata.org/pandas-docs/stable/indexing.html#indexing-view-versus-copy\n",
      "  if __name__ == '__main__':\n",
      "/home/aamir/anaconda2/lib/python2.7/site-packages/ipykernel/__main__.py:2: SettingWithCopyWarning: \n",
      "A value is trying to be set on a copy of a slice from a DataFrame.\n",
      "Try using .loc[row_indexer,col_indexer] = value instead\n",
      "\n",
      "See the caveats in the documentation: http://pandas.pydata.org/pandas-docs/stable/indexing.html#indexing-view-versus-copy\n",
      "  from ipykernel import kernelapp as app\n"
     ]
    }
   ],
   "source": [
    "progresa_nonpoor_df[\"Ti\"]=\"\"\n",
    "progresa_nonpoor_df[\"Posti\"]=\"\"\n",
    "progresa_nonpoor_df.loc[progresa_nonpoor_df[\"progresa\"]==\"basal\", \"Ti\"]=1\n",
    "progresa_nonpoor_df.loc[progresa_nonpoor_df[\"progresa\"]==\"0\", \"Ti\"]=0\n",
    "progresa_nonpoor_df.loc[progresa_nonpoor_df[\"year\"]==98, \"Posti\"]=1\n",
    "progresa_nonpoor_df.loc[progresa_nonpoor_df[\"year\"]==97, \"Posti\"]=0"
   ]
  },
  {
   "cell_type": "code",
   "execution_count": 77,
   "metadata": {
    "collapsed": false
   },
   "outputs": [
    {
     "name": "stderr",
     "output_type": "stream",
     "text": [
      "/home/aamir/anaconda2/lib/python2.7/site-packages/ipykernel/__main__.py:1: SettingWithCopyWarning: \n",
      "A value is trying to be set on a copy of a slice from a DataFrame.\n",
      "Try using .loc[row_indexer,col_indexer] = value instead\n",
      "\n",
      "See the caveats in the documentation: http://pandas.pydata.org/pandas-docs/stable/indexing.html#indexing-view-versus-copy\n",
      "  if __name__ == '__main__':\n"
     ]
    }
   ],
   "source": [
    "progresa_nonpoor_df[\"TiXPosti\"]=progresa_nonpoor_df[\"Ti\"]*progresa_nonpoor_df[\"Posti\"]"
   ]
  },
  {
   "cell_type": "code",
   "execution_count": 78,
   "metadata": {
    "collapsed": true
   },
   "outputs": [],
   "source": [
    "model_5 = smf.ols(\n",
    "formula=\"sc ~ Ti + Posti + TiXPosti + age + dist_sec + sex + hohedu + grc97 + min_dist\", data = progresa_nonpoor_df).fit()"
   ]
  },
  {
   "cell_type": "code",
   "execution_count": 79,
   "metadata": {
    "collapsed": false
   },
   "outputs": [
    {
     "data": {
      "text/plain": [
       "Intercept        1.702353\n",
       "Ti[T.1]          0.025962\n",
       "Posti[T.1]       0.073412\n",
       "TiXPosti[T.1]   -0.001176\n",
       "age             -0.107837\n",
       "dist_sec        -0.011367\n",
       "sex              0.034475\n",
       "hohedu           0.006922\n",
       "grc97            0.053606\n",
       "min_dist         0.000535\n",
       "dtype: float64"
      ]
     },
     "execution_count": 79,
     "metadata": {},
     "output_type": "execute_result"
    }
   ],
   "source": [
    "model_5.params"
   ]
  },
  {
   "cell_type": "markdown",
   "metadata": {},
   "source": [
    "*Discuss your results here*\n",
    "\n",
    "* Some households which were just crossing the threshold of the poverty line must have been non poor by definition. However, in reality, there condition will not have been the same as those non poor people, who are way above the poverty thershold. They would still need money in order fulfill their requirements. It might have been possible that such people would have entered the treatment group just for the extra money. Another possible spillover effect could have been that there was an interaction between children of poor and non poor families. The poor child may have told the non poor child about the benefits of progresa and this may have encouraged the non poor child to pose as a poor child.\n",
    "\n",
    "* In the model that I have fitted with 6 control variables, I can see a negative spillover effect on the non poor group, whereby the average enrollment for non poor families decreases by a small amount."
   ]
  },
  {
   "cell_type": "markdown",
   "metadata": {},
   "source": [
    "### 2.8 Summary\n",
    "\n",
    "Based on all the analysis you have undertaken to date, do you believe that Progresa had a causal impact on the enrollment rates of poor households in Mexico?"
   ]
  },
  {
   "cell_type": "markdown",
   "metadata": {},
   "source": [
    "\n",
    "\n",
    "* Progresa does have a causal impact on the average enrollment of the poor.\n"
   ]
  }
 ],
 "metadata": {
  "anaconda-cloud": {},
  "kernelspec": {
   "display_name": "Python [default]",
   "language": "python",
   "name": "python2"
  },
  "language_info": {
   "codemirror_mode": {
    "name": "ipython",
    "version": 2
   },
   "file_extension": ".py",
   "mimetype": "text/x-python",
   "name": "python",
   "nbconvert_exporter": "python",
   "pygments_lexer": "ipython2",
   "version": "2.7.12"
  }
 },
 "nbformat": 4,
 "nbformat_minor": 0
}
